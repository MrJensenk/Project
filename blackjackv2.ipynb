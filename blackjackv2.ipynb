{
  "cells": [
    {
      "cell_type": "markdown",
      "metadata": {
        "id": "JadPHDir0ij7"
      },
      "source": [
        "Environment setup"
      ]
    },
    {
      "cell_type": "code",
      "execution_count": 1,
      "metadata": {
        "colab": {
          "base_uri": "https://localhost:8080/"
        },
        "id": "fLzvumQH0ij8",
        "outputId": "0d4bbd09-9c45-4e2e-c7fc-02e2656e0503"
      },
      "outputs": [
        {
          "output_type": "stream",
          "name": "stdout",
          "text": [
            "Collecting gymnasium\n",
            "  Downloading gymnasium-0.29.1-py3-none-any.whl (953 kB)\n",
            "\u001b[2K     \u001b[90m━━━━━━━━━━━━━━━━━━━━━━━━━━━━━━━━━━━━━━━━\u001b[0m \u001b[32m953.9/953.9 kB\u001b[0m \u001b[31m4.6 MB/s\u001b[0m eta \u001b[36m0:00:00\u001b[0m\n",
            "\u001b[?25hRequirement already satisfied: numpy>=1.21.0 in /usr/local/lib/python3.10/dist-packages (from gymnasium) (1.25.2)\n",
            "Requirement already satisfied: cloudpickle>=1.2.0 in /usr/local/lib/python3.10/dist-packages (from gymnasium) (2.2.1)\n",
            "Requirement already satisfied: typing-extensions>=4.3.0 in /usr/local/lib/python3.10/dist-packages (from gymnasium) (4.12.2)\n",
            "Collecting farama-notifications>=0.0.1 (from gymnasium)\n",
            "  Downloading Farama_Notifications-0.0.4-py3-none-any.whl (2.5 kB)\n",
            "Installing collected packages: farama-notifications, gymnasium\n",
            "Successfully installed farama-notifications-0.0.4 gymnasium-0.29.1\n"
          ]
        }
      ],
      "source": [
        "import typing as tp\n",
        "import numpy as np\n",
        "!pip install gymnasium\n",
        "import gymnasium as gym\n",
        "\n",
        "cards = [1, 2, 3, 4, 5, 6, 7, 8, 9, 10, 10, 10, 10]\n",
        "card_names = ['A', '2', '3', '4', '5', '6', '7', '8', '9', '10']\n",
        "\n",
        "player_scores_axis = np.arange(12, 22, 1)\n",
        "dealer_card_offset = 1\n",
        "player_scores_offset = 12\n",
        "\n",
        "def default_player_policy_func(dealer_card: int, player_scores: int, player_has_ace: bool) -> int:\n",
        "    if player_has_ace:\n",
        "        if player_scores < 20:\n",
        "            return 1\n",
        "    else:\n",
        "        if player_scores < 16:\n",
        "            return 1\n",
        "    return 0\n",
        "\n",
        "policy_grids: tp.Dict[str, np.ndarray] = {\n",
        "    'no_ace': np.zeros((10, 10), dtype=int),\n",
        "    'ace': np.zeros((10, 10), dtype=int)\n",
        "}\n",
        "\n",
        "for dealer_card in range(1, 10):\n",
        "    for player_scores in range(12, 22):\n",
        "        cell_idx = (dealer_card - dealer_card_offset, player_scores - player_scores_offset)\n",
        "        policy_grids['no_ace'][cell_idx] = default_player_policy_func(dealer_card, player_scores, False)\n",
        "        policy_grids['ace'][cell_idx] = default_player_policy_func(dealer_card, player_scores, True)\n",
        "\n",
        "def take_action_from_policy_grid(dealer_card: int, player_scores: int, player_has_ace: bool) -> int:\n",
        "    global policy_grids\n",
        "    if player_scores < player_scores_offset:\n",
        "        return 1\n",
        "    cell_idx = (dealer_card - dealer_card_offset, player_scores - player_scores_offset)\n",
        "    assert cell_idx[0] >= 0 and cell_idx[1] >= 0\n",
        "    action = policy_grids['ace' if player_has_ace else 'no_ace'][cell_idx]\n",
        "    return action\n"
      ]
    },
    {
      "cell_type": "code",
      "execution_count": 2,
      "metadata": {
        "colab": {
          "base_uri": "https://localhost:8080/"
        },
        "id": "W1z1sDci0ij9",
        "outputId": "7421db71-4452-4a2e-8f5e-be7dd57c4838"
      },
      "outputs": [
        {
          "output_type": "stream",
          "name": "stderr",
          "text": [
            "100%|██████████| 100000/100000 [00:29<00:00, 3413.37it/s]\n",
            "WARNING:imageio_ffmpeg:IMAGEIO FFMPEG_WRITER WARNING: input image is not divisible by macro_block_size=16, resizing from (600, 500) to (608, 512) to ensure video compatibility with most codecs and players. To prevent resizing, make your input image divisible by the macro_block_size or set the macro_block_size to 1 (risking incompatibility).\n"
          ]
        },
        {
          "output_type": "execute_result",
          "data": {
            "text/plain": [
              "-0.08743"
            ]
          },
          "metadata": {},
          "execution_count": 2
        }
      ],
      "source": [
        "from tqdm import tqdm\n",
        "import cv2\n",
        "import imageio\n",
        "\n",
        "def estimate_policy(n_experiments: int = 100_000, out_file_name = None, render_every_n_episode: int = 1_000) -> float:\n",
        "\n",
        "    env = gym.make(\"Blackjack-v1\", sab=True, render_mode='rgb_array' if out_file_name is not None else None)\n",
        "\n",
        "    frames = []\n",
        "\n",
        "    sum_reward = 0\n",
        "    for ep_idx in tqdm(range(n_experiments)):\n",
        "\n",
        "        if out_file_name is not None and ep_idx % render_every_n_episode == 0:\n",
        "            render_flag = True\n",
        "            cur_avg_reward = (sum_reward / ep_idx) if ep_idx > 0 else 0\n",
        "        else:\n",
        "            render_flag = False\n",
        "\n",
        "        obs, info = env.reset()\n",
        "        done = False\n",
        "        ep_reward = 0\n",
        "\n",
        "        # play one episode\n",
        "        while not done:\n",
        "            player_scores, dealer_card, player_has_ace = obs\n",
        "\n",
        "            action = take_action_from_policy_grid(dealer_card, player_scores, player_has_ace)\n",
        "            next_obs, reward, terminated, truncated, info = env.step(action)\n",
        "            ep_reward += reward\n",
        "\n",
        "            done = terminated or truncated\n",
        "            obs = next_obs\n",
        "\n",
        "            if render_flag:\n",
        "                frame = env.render()\n",
        "                cv2.putText(frame, f'Mean reward: {cur_avg_reward:.2f}', (230, 40),\n",
        "                            cv2.FONT_HERSHEY_SIMPLEX, 1.1, (255, 255, 0), 2, 2)\n",
        "                frames.append(frame)\n",
        "        sum_reward += ep_reward\n",
        "\n",
        "    if out_file_name is not None:\n",
        "        imageio.mimsave(out_file_name, frames)\n",
        "\n",
        "    return sum_reward / n_experiments\n",
        "\n",
        "default_policy_reward = estimate_policy(out_file_name=\"default_policy_game.mp4\")\n",
        "default_policy_reward"
      ]
    },
    {
      "cell_type": "code",
      "execution_count": 3,
      "metadata": {
        "colab": {
          "base_uri": "https://localhost:8080/"
        },
        "id": "q3n1yPex0ij9",
        "outputId": "2a7e7a17-7a3a-41f1-eaa0-3e6e3e81ed69"
      },
      "outputs": [
        {
          "output_type": "stream",
          "name": "stdout",
          "text": [
            "Collecting kaleido\n",
            "  Downloading kaleido-0.2.1-py2.py3-none-manylinux1_x86_64.whl (79.9 MB)\n",
            "\u001b[2K     \u001b[90m━━━━━━━━━━━━━━━━━━━━━━━━━━━━━━━━━━━━━━━━\u001b[0m \u001b[32m79.9/79.9 MB\u001b[0m \u001b[31m6.0 MB/s\u001b[0m eta \u001b[36m0:00:00\u001b[0m\n",
            "\u001b[?25hInstalling collected packages: kaleido\n",
            "Successfully installed kaleido-0.2.1\n"
          ]
        },
        {
          "output_type": "stream",
          "name": "stderr",
          "text": [
            "100%|██████████| 303000/303000 [08:04<00:00, 624.84it/s] \n",
            "WARNING:imageio_ffmpeg:IMAGEIO FFMPEG_WRITER WARNING: input image is not divisible by macro_block_size=16, resizing from (1000, 500) to (1008, 512) to ensure video compatibility with most codecs and players. To prevent resizing, make your input image divisible by the macro_block_size or set the macro_block_size to 1 (risking incompatibility).\n"
          ]
        }
      ],
      "source": [
        "from tqdm import tqdm\n",
        "from pathlib import Path\n",
        "import shutil\n",
        "import imageio\n",
        "import plotly.graph_objects as go\n",
        "from plotly.subplots import make_subplots\n",
        "!pip install -U kaleido\n",
        "import kaleido\n",
        "\n",
        "camera = dict(\n",
        "    up=dict(x=0, y=0, z=1),\n",
        "    center=dict(x=0, y=0, z=0),\n",
        "    eye=dict(x=-1.25, y=1.25, z=1.25)\n",
        ")\n",
        "\n",
        "def draw_value_function(title: str, values: tp.Dict[str, np.ndarray]) -> go.Figure:\n",
        "\n",
        "    fig = make_subplots(rows=1, cols=2,\n",
        "                        shared_xaxes=False,\n",
        "                        specs=[[{'type': 'surface'}, {'type': 'surface'}]],\n",
        "                        subplot_titles=[\"No ace\", \"Ace\"])\n",
        "\n",
        "    fig.add_trace(go.Surface(y=card_names, x=player_scores_axis,\n",
        "                             z=values['no_ace'], colorscale='YlGnBu'), col=1, row=1)\n",
        "    fig.layout.scene1.camera = camera\n",
        "    fig.layout.scene1.xaxis.nticks = 9\n",
        "    fig.layout.scene1.yaxis.nticks = 10\n",
        "    fig.add_trace(go.Surface(y=card_names, x=player_scores_axis, z=values['ace'], colorscale='YlGnBu'), col=2, row=1)\n",
        "    fig.layout.scene2.camera = camera\n",
        "    fig.layout.scene2.xaxis.nticks = 10\n",
        "    fig.layout.scene2.yaxis.nticks = 10\n",
        "    fig.update_layout(scene_camera=camera, title=title,\n",
        "                      margin=dict(r=25, l=25, b=10, t=80),\n",
        "                      width=1000,\n",
        "                      showlegend=False)\n",
        "    fig.update_scenes(xaxis_title_text='Player',\n",
        "                      yaxis_title_text='Dealer',\n",
        "                      zaxis_title_text='Reward')\n",
        "    return fig\n",
        "\n",
        "\n",
        "def estimate_value_function(num_episodes: int = 300_000, frame_step: int = 3_000):\n",
        "\n",
        "    env = gym.make(\"Blackjack-v1\", sab=True)\n",
        "\n",
        "    temp_dir = Path('tmp')\n",
        "    if temp_dir.exists():\n",
        "        shutil.rmtree(temp_dir)\n",
        "    temp_dir.mkdir()\n",
        "\n",
        "    value_grid_count: tp.Dict[str, np.ndarray] = {\n",
        "        'no_ace': np.zeros((10, 10), dtype=int),\n",
        "        'ace': np.zeros((10, 10), dtype=int)\n",
        "    }\n",
        "    value_grid: tp.Dict[str, np.ndarray] = {\n",
        "        'no_ace': np.zeros((10, 10), dtype=float),\n",
        "        'ace': np.zeros((10, 10), dtype=float)\n",
        "    }\n",
        "\n",
        "    # fill a state with a score of 21 as a winning position\n",
        "    value_grid['no_ace'][:, -1] = 1\n",
        "    value_grid['ace'][:, -1] = 1\n",
        "\n",
        "    image_paths = []\n",
        "\n",
        "    for ep_idx in tqdm(range(num_episodes + frame_step)):\n",
        "\n",
        "        obs, info = env.reset()\n",
        "        done = False\n",
        "\n",
        "        # play one episode\n",
        "        while not done:\n",
        "            player_scores, dealer_card, player_has_ace = obs\n",
        "            action = take_action_from_policy_grid(dealer_card, player_scores, player_has_ace)\n",
        "\n",
        "            next_obs, reward, terminated, truncated, info = env.step(action)\n",
        "\n",
        "            done = terminated or truncated\n",
        "\n",
        "            if player_scores >= player_scores_offset:\n",
        "\n",
        "                v_g_count = value_grid_count['ace' if player_has_ace else 'no_ace']\n",
        "                v_g = value_grid['ace' if player_has_ace else 'no_ace']\n",
        "\n",
        "                cell_idx = (dealer_card - dealer_card_offset, player_scores - player_scores_offset)\n",
        "\n",
        "                N = v_g_count[cell_idx] + 1\n",
        "                v_g_count[cell_idx] = N\n",
        "                if done:\n",
        "                    td_target = reward\n",
        "                else:\n",
        "                    next_player_scores, next_dealer_card, next_player_has_ace = next_obs\n",
        "                    next_v_g = value_grid['ace' if next_player_has_ace else 'no_ace']\n",
        "\n",
        "                    next_cell_idx = (next_dealer_card - dealer_card_offset, next_player_scores - player_scores_offset)\n",
        "                    td_target = reward + next_v_g[next_cell_idx]\n",
        "                v_g[cell_idx] += (td_target - v_g[cell_idx]) / N\n",
        "\n",
        "            obs = next_obs\n",
        "\n",
        "        if ep_idx % frame_step == 0:\n",
        "            ep_name = str(ep_idx) if ep_idx > 0 else '1'\n",
        "            fig = draw_value_function(f'Value function on step: {ep_name}', value_grid)\n",
        "\n",
        "            image_path = temp_dir / f'{ep_name}.png'\n",
        "            fig.write_image(image_path)\n",
        "            image_paths.append(imageio.v2.imread(image_path))\n",
        "\n",
        "    imageio.v2.mimsave('blackjack_default_value_function.mp4', image_paths, fps=20)\n",
        "\n",
        "estimate_value_function()"
      ]
    },
    {
      "cell_type": "code",
      "execution_count": 4,
      "metadata": {
        "colab": {
          "base_uri": "https://localhost:8080/",
          "height": 1000
        },
        "collapsed": true,
        "id": "waqInISn0ij-",
        "outputId": "b0306683-7660-49f3-fb4c-f941e314e5f4"
      },
      "outputs": [
        {
          "output_type": "stream",
          "name": "stdout",
          "text": [
            "Requirement already satisfied: kaleido in /usr/local/lib/python3.10/dist-packages (0.2.1)\n"
          ]
        },
        {
          "output_type": "stream",
          "name": "stderr",
          "text": [
            "  0%|          | 0/1010000 [00:00<?, ?it/s]<ipython-input-4-bcb5eceb8671>:107: DeprecationWarning:\n",
            "\n",
            "Starting with ImageIO v3 the behavior of this function will switch to that of iio.v3.imread. To keep the current behavior (and make this warning disappear) use `import imageio.v2 as imageio` or call `imageio.v2.imread` directly.\n",
            "\n",
            "100%|██████████| 1010000/1010000 [10:59<00:00, 1531.26it/s]\n",
            "WARNING:imageio_ffmpeg:IMAGEIO FFMPEG_WRITER WARNING: input image is not divisible by macro_block_size=16, resizing from (1000, 500) to (1008, 512) to ensure video compatibility with most codecs and players. To prevent resizing, make your input image divisible by the macro_block_size or set the macro_block_size to 1 (risking incompatibility).\n"
          ]
        },
        {
          "output_type": "display_data",
          "data": {
            "text/html": [
              "<html>\n",
              "<head><meta charset=\"utf-8\" /></head>\n",
              "<body>\n",
              "    <div>            <script src=\"https://cdnjs.cloudflare.com/ajax/libs/mathjax/2.7.5/MathJax.js?config=TeX-AMS-MML_SVG\"></script><script type=\"text/javascript\">if (window.MathJax && window.MathJax.Hub && window.MathJax.Hub.Config) {window.MathJax.Hub.Config({SVG: {font: \"STIX-Web\"}});}</script>                <script type=\"text/javascript\">window.PlotlyConfig = {MathJaxConfig: 'local'};</script>\n",
              "        <script charset=\"utf-8\" src=\"https://cdn.plot.ly/plotly-2.24.1.min.js\"></script>                <div id=\"0e7980c6-2c00-425e-9c83-3364ce5fa994\" class=\"plotly-graph-div\" style=\"height:525px; width:100%;\"></div>            <script type=\"text/javascript\">                                    window.PLOTLYENV=window.PLOTLYENV || {};                                    if (document.getElementById(\"0e7980c6-2c00-425e-9c83-3364ce5fa994\")) {                    Plotly.newPlot(                        \"0e7980c6-2c00-425e-9c83-3364ce5fa994\",                        [{\"hovertemplate\":\"x=%{x}\\u003cbr\\u003ey=%{y}\\u003cextra\\u003e\\u003c\\u002fextra\\u003e\",\"legendgroup\":\"\",\"line\":{\"color\":\"#636efa\",\"dash\":\"solid\"},\"marker\":{\"symbol\":\"circle\"},\"mode\":\"lines\",\"name\":\"\",\"showlegend\":false,\"x\":[0,1,2,3,4,5,6,7,8,9,10,11,12,13,14,15,16,17,18,19,20,21,22,23,24,25,26,27,28,29,30,31,32,33,34,35,36,37,38,39,40,41,42,43,44,45,46,47,48,49,50,51,52,53,54,55,56,57,58,59,60,61,62,63,64,65,66,67,68,69,70,71,72,73,74,75,76,77,78,79,80,81,82,83,84,85,86,87,88,89,90,91,92,93,94,95,96,97,98,99,100,101,102,103,104,105,106,107,108,109,110,111,112,113,114,115,116,117,118,119,120,121,122,123,124,125,126,127,128,129,130,131,132,133,134,135,136,137,138,139,140,141,142,143,144,145,146,147,148,149,150,151,152,153,154,155,156,157,158,159,160,161,162,163,164,165,166,167,168,169,170,171,172,173,174,175,176,177,178,179,180,181,182,183,184,185,186,187,188,189,190,191,192,193,194,195,196,197,198,199,200,201,202,203,204,205,206,207,208,209,210,211,212,213,214,215,216,217,218,219,220,221,222,223,224,225,226,227,228,229,230,231,232,233,234,235,236,237,238,239,240,241,242,243,244,245,246,247,248,249,250,251,252,253,254,255,256,257,258,259,260,261,262,263,264,265,266,267,268,269,270,271,272,273,274,275,276,277,278,279,280,281,282,283,284,285,286,287,288,289,290,291,292,293,294,295,296,297,298,299,300,301,302,303,304,305,306,307,308,309,310,311,312,313,314,315,316,317,318,319,320,321,322,323,324,325,326,327,328,329,330,331,332,333,334,335,336,337,338,339,340,341,342,343,344,345,346,347,348,349,350,351,352,353,354,355,356,357,358,359,360,361,362,363,364,365,366,367,368,369,370,371,372,373,374,375,376,377,378,379,380,381,382,383,384,385,386,387,388,389,390,391,392,393,394,395,396,397,398,399,400,401,402,403,404,405,406,407,408,409,410,411,412,413,414,415,416,417,418,419,420,421,422,423,424,425,426,427,428,429,430,431,432,433,434,435,436,437,438,439,440,441,442,443,444,445,446,447,448,449,450,451,452,453,454,455,456,457,458,459,460,461,462,463,464,465,466,467,468,469,470,471,472,473,474,475,476,477,478,479,480,481,482,483,484,485,486,487,488,489,490,491,492,493,494,495,496,497,498,499,500,501,502,503,504,505,506,507,508,509,510,511,512,513,514,515,516,517,518,519,520,521,522,523,524,525,526,527,528,529,530,531,532,533,534,535,536,537,538,539,540,541,542,543,544,545,546,547,548,549,550,551,552,553,554,555,556,557,558,559,560,561,562,563,564,565,566,567,568,569,570,571,572,573,574,575,576,577,578,579,580,581,582,583,584,585,586,587,588,589,590,591,592,593,594,595,596,597,598,599,600,601,602,603,604,605,606,607,608,609,610,611,612,613,614,615,616,617,618,619,620,621,622,623,624,625,626,627,628,629,630,631,632,633,634,635,636,637,638,639,640,641,642,643,644,645,646,647,648,649,650,651,652,653,654,655,656,657,658,659,660,661,662,663,664,665,666,667,668,669,670,671,672,673,674,675,676,677,678,679,680,681,682,683,684,685,686,687,688,689,690,691,692,693,694,695,696,697,698,699,700,701,702,703,704,705,706,707,708,709,710,711,712,713,714,715,716,717,718,719,720,721,722,723,724,725,726,727,728,729,730,731,732,733,734,735,736,737,738,739,740,741,742,743,744,745,746,747,748,749,750,751,752,753,754,755,756,757,758,759,760,761,762,763,764,765,766,767,768,769,770,771,772,773,774,775,776,777,778,779,780,781,782,783,784,785,786,787,788,789,790,791,792,793,794,795,796,797,798,799,800,801,802,803,804,805,806,807,808,809,810,811,812,813,814,815,816,817,818,819,820,821,822,823,824,825,826,827,828,829,830,831,832,833,834,835,836,837,838,839,840,841,842,843,844,845,846,847,848,849,850,851,852,853,854,855,856,857,858,859,860,861,862,863,864,865,866,867,868,869,870,871,872,873,874,875,876,877,878,879,880,881,882,883,884,885,886,887,888,889,890,891,892,893,894,895,896,897,898,899,900,901,902,903,904,905,906,907,908,909,910,911,912,913,914,915,916,917,918,919,920,921,922,923,924,925,926,927,928,929,930,931,932,933,934,935,936,937,938,939,940,941,942,943,944,945,946,947,948,949,950,951,952,953,954,955,956,957,958,959,960,961,962,963,964,965,966,967,968,969,970,971,972,973,974,975,976,977,978,979,980,981,982,983,984,985,986,987,988,989,990,991,992,993,994,995,996,997,998,999,1000,1001,1002,1003,1004,1005,1006,1007,1008,1009,1010],\"xaxis\":\"x\",\"y\":[-1.0,0.0,-0.402,-0.436,-0.364,-0.379,-0.352,-0.336,-0.348,-0.314,-0.391,-0.349,-0.354,-0.351,-0.332,-0.309,-0.356,-0.284,-0.295,-0.268,-0.332,-0.326,-0.297,-0.301,-0.314,-0.281,-0.306,-0.281,-0.284,-0.254,-0.305,-0.316,-0.259,-0.239,-0.262,-0.279,-0.296,-0.239,-0.286,-0.273,-0.215,-0.266,-0.223,-0.289,-0.233,-0.188,-0.214,-0.22,-0.204,-0.199,-0.208,-0.277,-0.192,-0.169,-0.25,-0.276,-0.212,-0.203,-0.192,-0.18,-0.216,-0.208,-0.182,-0.181,-0.183,-0.238,-0.186,-0.183,-0.181,-0.227,-0.106,-0.128,-0.112,-0.196,-0.172,-0.167,-0.13,-0.179,-0.163,-0.19,-0.177,-0.212,-0.135,-0.203,-0.167,-0.17,-0.123,-0.155,-0.142,-0.181,-0.151,-0.131,-0.095,-0.099,-0.152,-0.153,-0.145,-0.123,-0.131,-0.071,-0.169,-0.152,-0.175,-0.161,-0.092,-0.141,-0.136,-0.123,-0.124,-0.106,-0.062,-0.118,-0.15,-0.152,-0.141,-0.132,-0.06,-0.114,-0.147,-0.125,-0.131,-0.145,-0.084,-0.085,-0.073,-0.096,-0.127,-0.091,-0.126,-0.074,-0.093,-0.09,-0.077,-0.107,-0.153,-0.101,-0.074,-0.108,-0.092,-0.124,-0.099,-0.138,-0.12,-0.068,-0.063,-0.09,-0.102,-0.115,-0.088,-0.142,-0.121,-0.107,-0.116,-0.103,-0.082,-0.091,-0.119,-0.088,-0.071,-0.087,-0.063,-0.086,-0.04,-0.096,-0.062,-0.099,-0.046,-0.104,-0.09,-0.127,-0.044,-0.138,-0.015,-0.096,-0.071,-0.004,-0.04,-0.089,-0.074,-0.087,-0.049,-0.072,-0.017,-0.057,-0.036,-0.1,-0.134,-0.105,-0.052,-0.107,-0.103,-0.101,-0.114,-0.038,-0.059,-0.102,-0.072,-0.056,-0.031,-0.098,-0.066,-0.118,-0.057,-0.05,-0.097,-0.086,-0.078,-0.134,-0.103,-0.062,-0.165,0.034,-0.098,-0.073,-0.066,-0.038,-0.093,-0.048,-0.024,-0.091,-0.047,-0.016,-0.045,-0.047,-0.06,-0.073,-0.082,-0.048,-0.015,-0.107,-0.052,-0.091,-0.028,-0.119,-0.083,-0.082,-0.077,-0.072,0.018,-0.025,-0.049,-0.09,-0.079,-0.054,-0.1,-0.071,-0.046,-0.032,0.011,0.016,-0.069,-0.094,-0.056,-0.043,-0.09,-0.002,-0.079,-0.079,-0.083,-0.111,-0.038,-0.055,0.019,-0.07,-0.08,-0.052,-0.061,-0.065,-0.019,-0.066,-0.01,-0.091,-0.049,-0.061,-0.016,-0.063,-0.1,-0.122,-0.062,-0.07,-0.062,-0.06,-0.023,-0.048,0.002,-0.063,-0.061,-0.065,-0.069,-0.037,-0.089,-0.084,-0.039,0.001,-0.075,-0.12,-0.016,0.013,-0.058,0.021,-0.056,-0.106,-0.074,-0.02,-0.041,-0.012,-0.001,-0.024,-0.033,-0.022,-0.099,0.008,-0.028,-0.049,-0.027,-0.027,-0.031,-0.047,-0.02,-0.064,-0.099,-0.055,-0.055,-0.043,-0.062,-0.026,-0.04,-0.032,-0.075,-0.008,-0.035,-0.033,-0.053,-0.065,-0.052,-0.056,-0.059,-0.009,-0.023,-0.06,-0.101,-0.065,-0.052,-0.052,-0.027,-0.038,-0.004,-0.023,-0.005,-0.067,-0.077,-0.031,-0.04,-0.074,-0.054,-0.055,-0.078,-0.087,-0.033,-0.045,-0.093,-0.076,-0.091,-0.02,-0.076,-0.074,-0.074,-0.015,-0.057,-0.071,-0.05,-0.037,0.006,-0.034,-0.062,-0.034,-0.03,-0.072,-0.051,-0.046,-0.053,-0.047,-0.051,-0.097,-0.095,-0.06,-0.049,-0.054,-0.064,-0.059,-0.036,-0.01,-0.074,-0.112,-0.025,-0.055,-0.049,-0.094,-0.024,-0.042,-0.046,-0.05,-0.012,-0.046,-0.087,0.001,-0.056,-0.075,-0.057,-0.067,-0.083,-0.071,-0.039,-0.002,0.012,-0.037,-0.112,-0.1,-0.03,-0.081,0.004,-0.065,-0.073,0.036,-0.093,-0.05,-0.078,-0.066,-0.052,-0.014,-0.102,-0.034,-0.053,-0.027,-0.094,-0.048,-0.018,-0.028,0.008,-0.107,-0.042,-0.023,-0.049,-0.025,0.002,-0.047,-0.045,-0.024,-0.014,-0.09,-0.05,-0.081,-0.004,-0.033,-0.025,-0.035,-0.015,-0.018,-0.034,-0.012,0.016,-0.036,-0.017,-0.069,-0.027,-0.086,0.045,-0.069,-0.068,-0.057,-0.017,-0.062,-0.052,-0.082,-0.008,-0.094,-0.037,-0.068,-0.076,-0.035,-0.052,-0.042,-0.06,-0.092,-0.058,-0.094,0.015,-0.037,-0.071,-0.032,-0.099,-0.069,-0.062,-0.01,-0.039,-0.03,-0.011,-0.026,-0.062,-0.022,-0.035,-0.034,-0.032,-0.062,-0.033,0.022,-0.017,-0.041,-0.052,-0.034,-0.029,-0.044,-0.034,-0.037,-0.06,-0.065,-0.052,-0.062,-0.073,-0.074,-0.083,-0.037,-0.046,-0.042,-0.08,-0.06,-0.028,-0.053,-0.055,-0.015,-0.055,-0.066,-0.048,-0.033,-0.084,-0.061,-0.091,-0.024,-0.01,-0.056,-0.03,-0.043,-0.076,-0.044,-0.033,-0.089,-0.099,-0.04,-0.026,0.001,-0.047,-0.021,-0.038,-0.046,-0.032,0.007,-0.061,-0.021,-0.076,-0.05,-0.05,-0.065,-0.046,-0.056,-0.008,-0.067,-0.077,-0.052,-0.052,-0.112,-0.087,-0.009,-0.037,-0.08,-0.068,-0.054,-0.056,-0.049,-0.07,-0.086,-0.05,-0.027,-0.032,-0.101,-0.048,-0.076,-0.03,-0.018,-0.059,0.046,-0.018,-0.034,-0.028,-0.003,-0.045,-0.092,-0.056,-0.046,-0.011,-0.018,-0.036,-0.065,-0.079,0.003,-0.014,-0.011,-0.021,-0.057,0.004,-0.091,0.003,-0.05,-0.065,-0.054,-0.106,-0.042,0.01,0.028,-0.018,-0.048,-0.05,-0.006,-0.034,-0.049,-0.036,-0.012,-0.042,-0.044,-0.054,-0.07,-0.059,-0.032,-0.008,-0.09,-0.038,-0.066,0.006,-0.069,-0.008,-0.015,-0.031,-0.045,-0.068,-0.089,-0.018,-0.034,-0.041,-0.028,-0.063,-0.061,-0.102,-0.053,-0.063,-0.031,-0.03,-0.021,-0.068,-0.066,-0.094,-0.058,-0.06,-0.058,-0.068,-0.009,-0.091,-0.032,-0.041,-0.029,-0.059,-0.028,-0.015,-0.047,-0.076,-0.05,-0.024,-0.087,-0.029,-0.02,-0.068,-0.015,-0.038,-0.029,-0.004,-0.046,-0.07,-0.072,-0.066,-0.013,0.017,-0.074,-0.074,-0.059,-0.069,-0.071,0.001,-0.074,-0.021,-0.035,-0.042,-0.087,-0.09,-0.04,-0.024,-0.072,-0.075,-0.084,-0.01,-0.015,-0.092,-0.017,-0.029,-0.011,-0.019,0.025,-0.104,-0.075,-0.055,-0.05,-0.069,-0.081,0.033,-0.088,-0.066,-0.054,-0.047,-0.049,-0.004,-0.078,-0.044,-0.015,-0.077,-0.067,-0.06,-0.067,0.037,-0.076,-0.058,-0.037,-0.046,-0.035,-0.011,0.008,-0.008,-0.056,-0.095,0.011,-0.028,-0.012,-0.033,-0.033,-0.07,-0.064,-0.032,-0.011,-0.07,-0.071,-0.079,-0.102,0.023,-0.068,-0.07,-0.027,-0.031,0.009,-0.018,-0.035,-0.077,-0.084,-0.035,-0.045,-0.062,0.027,-0.101,-0.105,-0.067,-0.062,-0.075,-0.037,-0.035,-0.018,-0.087,-0.051,-0.024,-0.023,0.002,0.028,-0.002,0.017,-0.041,-0.045,-0.038,-0.071,-0.044,-0.046,-0.014,-0.053,-0.017,-0.068,-0.041,-0.139,-0.043,-0.017,-0.107,-0.054,-0.04,-0.031,-0.069,-0.047,-0.082,0.005,-0.099,-0.075,-0.106,-0.065,-0.057,-0.028,-0.098,-0.05,-0.053,-0.014,-0.063,-0.067,-0.068,-0.046,-0.016,-0.069,0.021,-0.01,-0.063,0.002,-0.044,-0.074,-0.02,-0.044,-0.016,-0.061,-0.067,-0.073,-0.052,-0.023,-0.001,-0.082,-0.07,-0.064,-0.048,0.001,-0.029,-0.036,-0.058,-0.031,-0.051,-0.034,-0.02,-0.056,-0.03,-0.061,-0.032,-0.008,-0.011,-0.06,0.001,-0.05,-0.023,-0.049,-0.061,-0.023,-0.02,-0.026,-0.04,-0.008,-0.025,-0.033,-0.064,-0.101,-0.02,-0.06,-0.034,-0.058,-0.006,-0.053,-0.107,-0.037,-0.038,-0.001,-0.059,-0.012,-0.07,-0.034,-0.036,-0.075,-0.045,-0.017,-0.006,-0.104,0.01,-0.035,-0.049,-0.048,-0.028,-0.085,-0.108,-0.036,-0.015,-0.065,-0.014,-0.067,-0.087,-0.028,-0.017,-0.011,-0.071,-0.059,-0.052,-0.069,-0.056,-0.043,-0.088,-0.052,-0.05,-0.059,-0.062,-0.063,-0.053,-0.091,0.002,-0.05,-0.022,-0.053,-0.002,-0.03,-0.032,-0.01,-0.053,-0.028,-0.042,-0.042,-0.017,-0.073,-0.041,0.024,-0.029,-0.027,-0.066,-0.059,-0.003,-0.071,-0.022,-0.055,-0.041,-0.011,-0.002,0.014,-0.046,-0.077,-0.006,-0.007,-0.006,-0.014,-0.034,-0.063,-0.004,0.002,-0.04,-0.04,-0.045,-0.089,-0.07,-0.033,-0.083,-0.071,-0.053,-0.064,-0.075,0.012,-0.034,-0.064,-0.069,-0.015,-0.066,-0.036,-0.103,-0.061,-0.05,-0.015,-0.045,0.056,-0.032,-0.036,-0.016,-0.049,-0.067,-0.059,0.016,-0.039,-0.052,-0.027,-0.044,-0.039,-0.066,-0.061,-0.05,-0.011,-0.085,-0.035,-0.021,-0.091,-0.013,-0.069,-0.053,-0.059,-0.069],\"yaxis\":\"y\",\"type\":\"scattergl\"}],                        {\"template\":{\"data\":{\"histogram2dcontour\":[{\"type\":\"histogram2dcontour\",\"colorbar\":{\"outlinewidth\":0,\"ticks\":\"\"},\"colorscale\":[[0.0,\"#0d0887\"],[0.1111111111111111,\"#46039f\"],[0.2222222222222222,\"#7201a8\"],[0.3333333333333333,\"#9c179e\"],[0.4444444444444444,\"#bd3786\"],[0.5555555555555556,\"#d8576b\"],[0.6666666666666666,\"#ed7953\"],[0.7777777777777778,\"#fb9f3a\"],[0.8888888888888888,\"#fdca26\"],[1.0,\"#f0f921\"]]}],\"choropleth\":[{\"type\":\"choropleth\",\"colorbar\":{\"outlinewidth\":0,\"ticks\":\"\"}}],\"histogram2d\":[{\"type\":\"histogram2d\",\"colorbar\":{\"outlinewidth\":0,\"ticks\":\"\"},\"colorscale\":[[0.0,\"#0d0887\"],[0.1111111111111111,\"#46039f\"],[0.2222222222222222,\"#7201a8\"],[0.3333333333333333,\"#9c179e\"],[0.4444444444444444,\"#bd3786\"],[0.5555555555555556,\"#d8576b\"],[0.6666666666666666,\"#ed7953\"],[0.7777777777777778,\"#fb9f3a\"],[0.8888888888888888,\"#fdca26\"],[1.0,\"#f0f921\"]]}],\"heatmap\":[{\"type\":\"heatmap\",\"colorbar\":{\"outlinewidth\":0,\"ticks\":\"\"},\"colorscale\":[[0.0,\"#0d0887\"],[0.1111111111111111,\"#46039f\"],[0.2222222222222222,\"#7201a8\"],[0.3333333333333333,\"#9c179e\"],[0.4444444444444444,\"#bd3786\"],[0.5555555555555556,\"#d8576b\"],[0.6666666666666666,\"#ed7953\"],[0.7777777777777778,\"#fb9f3a\"],[0.8888888888888888,\"#fdca26\"],[1.0,\"#f0f921\"]]}],\"heatmapgl\":[{\"type\":\"heatmapgl\",\"colorbar\":{\"outlinewidth\":0,\"ticks\":\"\"},\"colorscale\":[[0.0,\"#0d0887\"],[0.1111111111111111,\"#46039f\"],[0.2222222222222222,\"#7201a8\"],[0.3333333333333333,\"#9c179e\"],[0.4444444444444444,\"#bd3786\"],[0.5555555555555556,\"#d8576b\"],[0.6666666666666666,\"#ed7953\"],[0.7777777777777778,\"#fb9f3a\"],[0.8888888888888888,\"#fdca26\"],[1.0,\"#f0f921\"]]}],\"contourcarpet\":[{\"type\":\"contourcarpet\",\"colorbar\":{\"outlinewidth\":0,\"ticks\":\"\"}}],\"contour\":[{\"type\":\"contour\",\"colorbar\":{\"outlinewidth\":0,\"ticks\":\"\"},\"colorscale\":[[0.0,\"#0d0887\"],[0.1111111111111111,\"#46039f\"],[0.2222222222222222,\"#7201a8\"],[0.3333333333333333,\"#9c179e\"],[0.4444444444444444,\"#bd3786\"],[0.5555555555555556,\"#d8576b\"],[0.6666666666666666,\"#ed7953\"],[0.7777777777777778,\"#fb9f3a\"],[0.8888888888888888,\"#fdca26\"],[1.0,\"#f0f921\"]]}],\"surface\":[{\"type\":\"surface\",\"colorbar\":{\"outlinewidth\":0,\"ticks\":\"\"},\"colorscale\":[[0.0,\"#0d0887\"],[0.1111111111111111,\"#46039f\"],[0.2222222222222222,\"#7201a8\"],[0.3333333333333333,\"#9c179e\"],[0.4444444444444444,\"#bd3786\"],[0.5555555555555556,\"#d8576b\"],[0.6666666666666666,\"#ed7953\"],[0.7777777777777778,\"#fb9f3a\"],[0.8888888888888888,\"#fdca26\"],[1.0,\"#f0f921\"]]}],\"mesh3d\":[{\"type\":\"mesh3d\",\"colorbar\":{\"outlinewidth\":0,\"ticks\":\"\"}}],\"scatter\":[{\"fillpattern\":{\"fillmode\":\"overlay\",\"size\":10,\"solidity\":0.2},\"type\":\"scatter\"}],\"parcoords\":[{\"type\":\"parcoords\",\"line\":{\"colorbar\":{\"outlinewidth\":0,\"ticks\":\"\"}}}],\"scatterpolargl\":[{\"type\":\"scatterpolargl\",\"marker\":{\"colorbar\":{\"outlinewidth\":0,\"ticks\":\"\"}}}],\"bar\":[{\"error_x\":{\"color\":\"#2a3f5f\"},\"error_y\":{\"color\":\"#2a3f5f\"},\"marker\":{\"line\":{\"color\":\"#E5ECF6\",\"width\":0.5},\"pattern\":{\"fillmode\":\"overlay\",\"size\":10,\"solidity\":0.2}},\"type\":\"bar\"}],\"scattergeo\":[{\"type\":\"scattergeo\",\"marker\":{\"colorbar\":{\"outlinewidth\":0,\"ticks\":\"\"}}}],\"scatterpolar\":[{\"type\":\"scatterpolar\",\"marker\":{\"colorbar\":{\"outlinewidth\":0,\"ticks\":\"\"}}}],\"histogram\":[{\"marker\":{\"pattern\":{\"fillmode\":\"overlay\",\"size\":10,\"solidity\":0.2}},\"type\":\"histogram\"}],\"scattergl\":[{\"type\":\"scattergl\",\"marker\":{\"colorbar\":{\"outlinewidth\":0,\"ticks\":\"\"}}}],\"scatter3d\":[{\"type\":\"scatter3d\",\"line\":{\"colorbar\":{\"outlinewidth\":0,\"ticks\":\"\"}},\"marker\":{\"colorbar\":{\"outlinewidth\":0,\"ticks\":\"\"}}}],\"scattermapbox\":[{\"type\":\"scattermapbox\",\"marker\":{\"colorbar\":{\"outlinewidth\":0,\"ticks\":\"\"}}}],\"scatterternary\":[{\"type\":\"scatterternary\",\"marker\":{\"colorbar\":{\"outlinewidth\":0,\"ticks\":\"\"}}}],\"scattercarpet\":[{\"type\":\"scattercarpet\",\"marker\":{\"colorbar\":{\"outlinewidth\":0,\"ticks\":\"\"}}}],\"carpet\":[{\"aaxis\":{\"endlinecolor\":\"#2a3f5f\",\"gridcolor\":\"white\",\"linecolor\":\"white\",\"minorgridcolor\":\"white\",\"startlinecolor\":\"#2a3f5f\"},\"baxis\":{\"endlinecolor\":\"#2a3f5f\",\"gridcolor\":\"white\",\"linecolor\":\"white\",\"minorgridcolor\":\"white\",\"startlinecolor\":\"#2a3f5f\"},\"type\":\"carpet\"}],\"table\":[{\"cells\":{\"fill\":{\"color\":\"#EBF0F8\"},\"line\":{\"color\":\"white\"}},\"header\":{\"fill\":{\"color\":\"#C8D4E3\"},\"line\":{\"color\":\"white\"}},\"type\":\"table\"}],\"barpolar\":[{\"marker\":{\"line\":{\"color\":\"#E5ECF6\",\"width\":0.5},\"pattern\":{\"fillmode\":\"overlay\",\"size\":10,\"solidity\":0.2}},\"type\":\"barpolar\"}],\"pie\":[{\"automargin\":true,\"type\":\"pie\"}]},\"layout\":{\"autotypenumbers\":\"strict\",\"colorway\":[\"#636efa\",\"#EF553B\",\"#00cc96\",\"#ab63fa\",\"#FFA15A\",\"#19d3f3\",\"#FF6692\",\"#B6E880\",\"#FF97FF\",\"#FECB52\"],\"font\":{\"color\":\"#2a3f5f\"},\"hovermode\":\"closest\",\"hoverlabel\":{\"align\":\"left\"},\"paper_bgcolor\":\"white\",\"plot_bgcolor\":\"#E5ECF6\",\"polar\":{\"bgcolor\":\"#E5ECF6\",\"angularaxis\":{\"gridcolor\":\"white\",\"linecolor\":\"white\",\"ticks\":\"\"},\"radialaxis\":{\"gridcolor\":\"white\",\"linecolor\":\"white\",\"ticks\":\"\"}},\"ternary\":{\"bgcolor\":\"#E5ECF6\",\"aaxis\":{\"gridcolor\":\"white\",\"linecolor\":\"white\",\"ticks\":\"\"},\"baxis\":{\"gridcolor\":\"white\",\"linecolor\":\"white\",\"ticks\":\"\"},\"caxis\":{\"gridcolor\":\"white\",\"linecolor\":\"white\",\"ticks\":\"\"}},\"coloraxis\":{\"colorbar\":{\"outlinewidth\":0,\"ticks\":\"\"}},\"colorscale\":{\"sequential\":[[0.0,\"#0d0887\"],[0.1111111111111111,\"#46039f\"],[0.2222222222222222,\"#7201a8\"],[0.3333333333333333,\"#9c179e\"],[0.4444444444444444,\"#bd3786\"],[0.5555555555555556,\"#d8576b\"],[0.6666666666666666,\"#ed7953\"],[0.7777777777777778,\"#fb9f3a\"],[0.8888888888888888,\"#fdca26\"],[1.0,\"#f0f921\"]],\"sequentialminus\":[[0.0,\"#0d0887\"],[0.1111111111111111,\"#46039f\"],[0.2222222222222222,\"#7201a8\"],[0.3333333333333333,\"#9c179e\"],[0.4444444444444444,\"#bd3786\"],[0.5555555555555556,\"#d8576b\"],[0.6666666666666666,\"#ed7953\"],[0.7777777777777778,\"#fb9f3a\"],[0.8888888888888888,\"#fdca26\"],[1.0,\"#f0f921\"]],\"diverging\":[[0,\"#8e0152\"],[0.1,\"#c51b7d\"],[0.2,\"#de77ae\"],[0.3,\"#f1b6da\"],[0.4,\"#fde0ef\"],[0.5,\"#f7f7f7\"],[0.6,\"#e6f5d0\"],[0.7,\"#b8e186\"],[0.8,\"#7fbc41\"],[0.9,\"#4d9221\"],[1,\"#276419\"]]},\"xaxis\":{\"gridcolor\":\"white\",\"linecolor\":\"white\",\"ticks\":\"\",\"title\":{\"standoff\":15},\"zerolinecolor\":\"white\",\"automargin\":true,\"zerolinewidth\":2},\"yaxis\":{\"gridcolor\":\"white\",\"linecolor\":\"white\",\"ticks\":\"\",\"title\":{\"standoff\":15},\"zerolinecolor\":\"white\",\"automargin\":true,\"zerolinewidth\":2},\"scene\":{\"xaxis\":{\"backgroundcolor\":\"#E5ECF6\",\"gridcolor\":\"white\",\"linecolor\":\"white\",\"showbackground\":true,\"ticks\":\"\",\"zerolinecolor\":\"white\",\"gridwidth\":2},\"yaxis\":{\"backgroundcolor\":\"#E5ECF6\",\"gridcolor\":\"white\",\"linecolor\":\"white\",\"showbackground\":true,\"ticks\":\"\",\"zerolinecolor\":\"white\",\"gridwidth\":2},\"zaxis\":{\"backgroundcolor\":\"#E5ECF6\",\"gridcolor\":\"white\",\"linecolor\":\"white\",\"showbackground\":true,\"ticks\":\"\",\"zerolinecolor\":\"white\",\"gridwidth\":2}},\"shapedefaults\":{\"line\":{\"color\":\"#2a3f5f\"}},\"annotationdefaults\":{\"arrowcolor\":\"#2a3f5f\",\"arrowhead\":0,\"arrowwidth\":1},\"geo\":{\"bgcolor\":\"white\",\"landcolor\":\"#E5ECF6\",\"subunitcolor\":\"white\",\"showland\":true,\"showlakes\":true,\"lakecolor\":\"white\"},\"title\":{\"x\":0.05},\"mapbox\":{\"style\":\"light\"}}},\"xaxis\":{\"anchor\":\"y\",\"domain\":[0.0,1.0],\"title\":{\"text\":\"x\"}},\"yaxis\":{\"anchor\":\"x\",\"domain\":[0.0,1.0],\"title\":{\"text\":\"y\"}},\"legend\":{\"tracegroupgap\":0},\"title\":{\"text\":\"Mean reward\"}},                        {\"responsive\": true}                    ).then(function(){\n",
              "                            \n",
              "var gd = document.getElementById('0e7980c6-2c00-425e-9c83-3364ce5fa994');\n",
              "var x = new MutationObserver(function (mutations, observer) {{\n",
              "        var display = window.getComputedStyle(gd).display;\n",
              "        if (!display || display === 'none') {{\n",
              "            console.log([gd, 'removed!']);\n",
              "            Plotly.purge(gd);\n",
              "            observer.disconnect();\n",
              "        }}\n",
              "}});\n",
              "\n",
              "// Listen for the removal of the full notebook cells\n",
              "var notebookContainer = gd.closest('#notebook-container');\n",
              "if (notebookContainer) {{\n",
              "    x.observe(notebookContainer, {childList: true});\n",
              "}}\n",
              "\n",
              "// Listen for the clearing of the current output cell\n",
              "var outputEl = gd.closest('.output');\n",
              "if (outputEl) {{\n",
              "    x.observe(outputEl, {childList: true});\n",
              "}}\n",
              "\n",
              "                        })                };                            </script>        </div>\n",
              "</body>\n",
              "</html>"
            ]
          },
          "metadata": {}
        },
        {
          "output_type": "display_data",
          "data": {
            "text/html": [
              "<html>\n",
              "<head><meta charset=\"utf-8\" /></head>\n",
              "<body>\n",
              "    <div>            <script src=\"https://cdnjs.cloudflare.com/ajax/libs/mathjax/2.7.5/MathJax.js?config=TeX-AMS-MML_SVG\"></script><script type=\"text/javascript\">if (window.MathJax && window.MathJax.Hub && window.MathJax.Hub.Config) {window.MathJax.Hub.Config({SVG: {font: \"STIX-Web\"}});}</script>                <script type=\"text/javascript\">window.PlotlyConfig = {MathJaxConfig: 'local'};</script>\n",
              "        <script charset=\"utf-8\" src=\"https://cdn.plot.ly/plotly-2.24.1.min.js\"></script>                <div id=\"1f716780-36d9-4754-ba2a-22eccbb0375b\" class=\"plotly-graph-div\" style=\"height:525px; width:100%;\"></div>            <script type=\"text/javascript\">                                    window.PLOTLYENV=window.PLOTLYENV || {};                                    if (document.getElementById(\"1f716780-36d9-4754-ba2a-22eccbb0375b\")) {                    Plotly.newPlot(                        \"1f716780-36d9-4754-ba2a-22eccbb0375b\",                        [{\"hovertemplate\":\"x=%{x}\\u003cbr\\u003ey=%{y}\\u003cextra\\u003e\\u003c\\u002fextra\\u003e\",\"legendgroup\":\"\",\"line\":{\"color\":\"#636efa\",\"dash\":\"solid\"},\"marker\":{\"symbol\":\"circle\"},\"mode\":\"lines\",\"name\":\"\",\"orientation\":\"v\",\"showlegend\":false,\"x\":[0,1,2,3,4,5,6,7,8,9,10,11,12,13,14,15,16,17,18,19,20,21,22,23,24,25,26,27,28,29,30,31,32,33,34,35,36,37,38,39,40,41,42,43,44,45,46,47,48,49,50,51,52,53,54,55,56,57,58,59,60,61,62,63,64,65,66,67,68,69,70,71,72,73,74,75,76,77,78,79,80,81,82,83,84,85,86,87,88,89,90,91,92,93,94,95,96,97,98,99,100,101,102,103,104,105,106,107,108,109,110,111,112,113,114,115,116,117,118,119,120,121,122,123,124,125,126,127,128,129,130,131,132,133,134,135,136,137,138,139,140,141,142,143,144,145,146,147,148,149,150,151,152,153,154,155,156,157,158,159,160,161,162,163,164,165,166,167,168,169,170,171,172,173,174,175,176,177,178,179,180,181,182,183,184,185,186,187,188,189,190,191,192,193,194,195,196,197,198,199,200,201,202,203,204,205,206,207,208,209,210,211,212,213,214,215,216,217,218,219,220,221,222,223,224,225,226,227,228,229,230,231,232,233,234,235,236,237,238,239,240,241,242,243,244,245,246,247,248,249,250,251,252,253,254,255,256,257,258,259,260,261,262,263,264,265,266,267,268,269,270,271,272,273,274,275,276,277,278,279,280,281,282,283,284,285,286,287,288,289,290,291,292,293,294,295,296,297,298,299,300,301,302,303,304,305,306,307,308,309,310,311,312,313,314,315,316,317,318,319,320,321,322,323,324,325,326,327,328,329,330,331,332,333,334,335,336,337,338,339,340,341,342,343,344,345,346,347,348,349,350,351,352,353,354,355,356,357,358,359,360,361,362,363,364,365,366,367,368,369,370,371,372,373,374,375,376,377,378,379,380,381,382,383,384,385,386,387,388,389,390,391,392,393,394,395,396,397,398,399,400,401,402,403,404,405,406,407,408,409,410,411,412,413,414,415,416,417,418,419,420,421,422,423,424,425,426,427,428,429,430,431,432,433,434,435,436,437,438,439,440,441,442,443,444,445,446,447,448,449,450,451,452,453,454,455,456,457,458,459,460,461,462,463,464,465,466,467,468,469,470,471,472,473,474,475,476,477,478,479,480,481,482,483,484,485,486,487,488,489,490,491,492,493,494,495,496,497,498,499,500,501,502,503,504,505,506,507,508,509,510,511,512,513,514,515,516,517,518,519,520,521,522,523,524,525,526,527,528,529,530,531,532,533,534,535,536,537,538,539,540,541,542,543,544,545,546,547,548,549,550,551,552,553,554,555,556,557,558,559,560,561,562,563,564,565,566,567,568,569,570,571,572,573,574,575,576,577,578,579,580,581,582,583,584,585,586,587,588,589,590,591,592,593,594,595,596,597,598,599,600,601,602,603,604,605,606,607,608,609,610,611,612,613,614,615,616,617,618,619,620,621,622,623,624,625,626,627,628,629,630,631,632,633,634,635,636,637,638,639,640,641,642,643,644,645,646,647,648,649,650,651,652,653,654,655,656,657,658,659,660,661,662,663,664,665,666,667,668,669,670,671,672,673,674,675,676,677,678,679,680,681,682,683,684,685,686,687,688,689,690,691,692,693,694,695,696,697,698,699,700,701,702,703,704,705,706,707,708,709,710,711,712,713,714,715,716,717,718,719,720,721,722,723,724,725,726,727,728,729,730,731,732,733,734,735,736,737,738,739,740,741,742,743,744,745,746,747,748,749,750,751,752,753,754,755,756,757,758,759,760,761,762,763,764,765,766,767,768,769,770,771,772,773,774,775,776,777,778,779,780,781,782,783,784,785,786,787,788,789,790,791,792,793,794,795,796,797,798,799,800,801,802,803,804,805,806,807,808,809,810,811,812,813,814,815,816,817,818,819,820,821,822,823,824,825,826,827,828,829,830,831,832,833,834,835,836,837,838,839,840,841,842,843,844,845,846,847,848,849,850,851,852,853,854,855,856,857,858,859,860,861,862,863,864,865,866,867,868,869,870,871,872,873,874,875,876,877,878,879,880,881,882,883,884,885,886,887,888,889,890,891,892,893,894,895,896,897,898,899,900,901,902,903,904,905,906,907,908,909,910,911,912,913,914,915,916,917,918,919,920,921,922,923,924,925,926,927,928,929,930,931,932,933,934,935,936,937,938,939,940,941,942,943,944,945,946,947,948,949,950,951,952,953,954,955,956,957,958,959,960,961,962,963,964,965,966,967,968,969,970,971,972,973,974,975,976,977,978,979,980,981,982,983,984,985,986,987,988,989,990,991,992,993,994,995,996,997,998,999],\"xaxis\":\"x\",\"y\":[0.42953398999984316,0.2664835774299087,0.5864911046336314,0.4710600760608686,1.202922122795175,0.2190444145356676,1.205164999291226,0.2085517011895841,0.09378257948592661,0.5864321608040199,0.8874178981937608,0.8318092371802291,0.032721917258965005,0.07573601874154656,0.3325453112687181,0.8511873350923495,0.21902599041130588,0.1126731657260128,0.5618184071381362,0.42952297404810946,1.1042471042471043,1.301813297515109,1.1472532854460864,0.0276676384839649,0.4818878439568089,0.037820262554806916,0.49699873608223966,0.75240700794444,0.44099965579548817,1.081818002928106,0.7433871236067204,0.21075508238962695,0.578161188526324,0.903375243188062,0.5618068033955016,0.7788844621513938,1.4382047998678178,1.1995822999608403,0.3601466465387123,0.7067613914747657,0.8126154983368231,0.7523872155727988,0.02342506254264265,0.9723331681292092,1.1411222780569517,0.29426870549784234,0.322855465581025,0.7523674242424228,0.02891934950429642,0.4295202382804566,0.8590369853454289,0.3134527820853291,0.04720756003190685,0.6144859218379857,0.6983615363953818,0.561824903446994,0.9802050697806892,0.7787875015560806,0.3851078966089623,1.6398921832884077,0.7262202043132808,1.2933251684017162,1.4818039352254913,0.41107877159857786,0.10762642475875073,0.37752335040674784,0.8317129629629629,1.1874846021187493,1.1586001489203275,0.8415436158332299,0.5618133002891368,0.2700831165569441,1.281539725384345,0.44095125811596714,0.2419253053006994,0.07576065554300426,0.33251255786467315,0.34123273113708896,0.4584388071933715,1.3782222697614714,0.7584954604409849,1.24765236604677,0.45842643334233113,0.6688319852441442,0.10842306014616654,0.6675201890880416,1.079202589902949,0.08407506094449102,1.2942343604108328,0.458414060159245,0.35112129786959395,0.0007498595116381956,0.62251456115686,1.1489249439387932,0.36028460543337837,0.47042226282100486,0.4295092235288659,0.027695178123724448,0.3412563667232611,0.4294982093421922,0.5864137427489001,0.011992619926198267,0.4275549431135415,0.684178614658994,0.6077907623817469,0.3412177455862394,0.22725457134577784,0.6144173025278976,1.404631163704483,0.06320081549439316,1.1389578163771712,0.7354910714285716,0.36024576910639405,0.5340804153043698,0.7068332108743555,0.5348429188784564,1.0915871448941536,0.8384225491408088,0.2721691046091565,0.04526996613720635,0.3325455440669647,0.39755102040816226,0.8188481395245594,0.42948719572039196,0.7067466634014922,0.4815459610027849,0.29397876372108245,1.2476195486348587,0.07641851663076488,0.45840962186525414,0.9723056292452557,0.8611706326829818,0.6435272979770879,1.4054846498792686,0.49265963304151095,0.21758724032178087,1.2475867329493162,0.36020694115111207,0.011730907349774555,0.8414392059553351,0.8316167110288161,0.46820308957793266,0.9085325729326608,0.2107924197531566,0.5780998060877927,0.03708171687995626,0.534067085953883,1.4381983023894591,0.5863502780581265,0.3416496397462112,1.1226068671152725,0.08407029478457351,0.24397458956831375,0.10677420251578329,0.6233162677344795,0.7888014449748423,0.20853435368491025,0.5780384366816262,0.8963556655237919,0.3416129032258084,0.2557822595795241,1.1994257374053767,0.4044781295792506,1.1504888513038285,0.21900756938604005,1.4814621409921664,0.35561323815704127,0.8315204813700532,0.672847040649091,0.6767916619877723,1.1471596474045058,0.5618313989508901,0.026725608411164004,0.7354089945318605,0.4294761826634218,1.2664109255231746,0.625278961249746,0.2566747068119444,1.0915670577914243,0.2464926472801987,1.1994073342387945,0.8493733743201701,0.04206985238355121,0.5340537572687161,0.03770104914988484,0.7186106547758737,0.5340404292488192,1.3360027070521912,0.07771046584499652,1.3775479465809808,0.28163682785089245,1.2933398628795314,0.6616880557135669,0.6077231248608943,0.8007407407407411,0.5864313848508163,1.1410828914317614,1.37807486631016,0.5618197963777544,0.34119647221336813,1.4635148534512101,0.8929800236224485,1.090220385674931,0.4969863663768389,0.12366550030209825,0.04281568522906837,0.04106954549255043,1.2475539189900067,0.4583972501376784,0.20118462710834228,0.9800654990744696,0.03858812134231182,0.45838487907787007,0.5618081942838262,1.519400953029273,0.8179382768966998,0.42950269619312165,0.569683181578409,0.3999503363025065,1.299058623466804,0.07769423558897204,0.028056112224448888,0.532317227425694,1.1586651780176156,0.8512265892904258,0.5863732288212238,0.4704460647501423,0.5322606881556542,0.5696217204519036,0.7886996904024771,0.08406552916500631,0.3346235679145381,1.3815104166666667,0.8492729637072939,0.5348320394193065,0.07915043394164045,0.496971962658743,0.3991952046792838,0.6727734249991293,0.07189277010560646,1.658423825395117,0.5761201144242131,0.49695859780832863,1.2213094349016684,0.29296885739625556,0.9798308986451489,0.43820340733092417,0.5748449955713011,0.49694523367672516,0.8383189122373303,0.9799259681093394,0.6233911926877886,0.1614105494338492,1.112661604760927,1.2475211067567937,0.1550587145764076,0.9059367771781033,0.5138783348659735,0.9722772854477613,0.21089109894592697,0.5779770803036748,0.7788425637834469,0.9105299380591878,0.706818460031826,0.44089097473816163,1.0277510566972743,0.15102040816326512,0.8476537729866837,0.03727603131472135,0.0435124742851877,0.04099687097572971,1.247488296249541,0.8006418960622149,0.8187740140412232,0.83177539632111,0.017294479981048383,0.03257750987616648,0.408265095034816,0.49693187026387453,1.4357598121435753,0.25665335994677374,0.5761035034011059,1.3224633683154494,0.06318793314308979,0.8382153009516751,1.0202135231316727,1.104117922321011,1.1524805832937073,1.1508274231678488,0.7621315271450717,0.7525445125318873,1.0685014365643428,0.7583970950590058,1.4659728981058575,0.6674871996849128,0.7885979620791955,1.1509324009324007,1.4226664079177178,0.7872763419483105,1.2417012448132787,0.4703917971224171,0.49260683488128787,0.5947577168477324,1.2474752787713037,0.41368569131832816,0.8477020602218701,1.1488856653039683,0.554737459231195,0.07767801211108749,1.2940833236083575,0.3055822392998171,0.3589968276441472,0.037145177796626405,0.5340636853663452,0.011938872970391423,0.8343810134701737,0.4053448275862069,0.6674214827212734,0.08630118854092839,0.6745320319043595,0.5747601476014752,0.5348172605627639,0.042397741972344166,0.8610735227785294,0.39619200831400914,1.0277210983501428,0.5618056415974889,1.2030951115911221,0.21898915145908804,1.2932680538555708,0.5617940405145889,0.5340503580964786,0.9719482120838471,0.019430848366675857,0.8381117152743454,0.04129583338772952,0.07638966470057179,0.4584128178223865,0.06742782280550386,0.4294916835858502,0.8380081551958486,0.2566320166320173,1.0729216452935102,0.21897073662966837,0.3601681215648257,0.08406076408569751,0.03471852247552805,0.2586597951675158,0.7884962599948417,0.42688268486775954,0.07760181322258697,0.05258312080267086,0.5780434133916439,0.6113981003166145,0.6306209151388753,0.43821756008920465,1.4069611780455156,0.8314242739789424,0.5340370314917449,0.21895232489699956,0.3055496264674479,0.4584004476778072,1.4659762944479056,0.3779274943856268,0.21893391626030068,0.8831821353803213,0.20851700906595616,0.7243720494680577,0.7060676779463226,0.8414785413048871,0.21891551071879078,0.5617914885708976,0.739768524042478,0.011728099569173867,0.21775715615568442,0.7525575279421419,1.0675821217016694,0.1740200386711203,0.5863558726012256,0.8126616578396346,0.40822135078376764,0.49691769332808966,0.8590763220315332,0.2556334052445857,0.7525377373376096,0.20849966733200187,0.8835634039936976,0.36012931034482953,0.42948067154329894,0.4375024697433294,0.02769114174949707,0.49255404803657277,0.576097125348692,0.8342739866598261,0.20848232848232773,0.4969112054368948,0.7584597432905477,0.02601702932828831,0.09860842535705826,0.8874525495024116,0.3922248920557247,1.122778197240793,0.2084649925162141,0.0412620403556514,0.03792063145347535,0.49689784509474877,0.28696391474183863,0.7620438250130642,0.607655502392344,0.5617798884988643,0.4583880782008197,0.5139339559927969,1.027690334615833,0.8960112293835535,0.2566106768667893,1.1506914076350314,0.04098358886280201,0.7525179477739486,0.7524981592510768,1.1487341772151887,0.5779820760175574,1.2199022110713598,0.9281218274111662,0.3600905074884192,0.038136303174488684,1.158625821654471,0.2109346188848715,0.5779207516593592,0.18016812691772255,1.1843130985692385,0.37484787018255616,0.630553533910631,1.2475216282310881,0.2188971082716893,0.8379046207066966,1.1994569242162425,1.152432261131358,1.273862217682442,0.4294696600654243,1.0370783190231943,0.38506224066389894,0.7060970917756362,1.1470660246470255,0.5617682889058659,0.4583895766360747,0.5340602854576352,0.04894013573970205,0.35052038234682703,0.000731711473439367,0.6225903614457844,1.438243310208127,0.438213614684203,1.4223903764066743,0.5348174288433157,0.3055170205954526,0.7525111753878503,0.8514172709294672,0.6112962345884709,0.21887870891821604,0.023419736243747047,0.0840559995465553,0.607587894971072,0.9723396193418637,0.011725293132330283,0.4225643749686598,0.09144736842105249,0.8845440494590421,0.019739897816997698,0.14785474964925738,0.2614880231225747,0.33264422130340876,0.817850637522769,1.4046207830628068,0.06317505604238816,0.07919484191370657,0.037162474131752776,1.4659530403972307,0.8378011117974061,0.7396802672393232,0.3871549900874918,1.2051844017169833,0.20844765943294175,0.429458649152183,0.34175446140615107,0.4253246753246762,0.002332171910841313,0.13141593000533622,0.8589564732142855,1.2509093868460672,0.25658934065020433,0.7395920314923068,0.7524913886040321,0.8415178571428572,0.6193884189980481,0.561795432960317,0.8376976284584983,0.812561576354679,0.9159487644525122,0.271746730960473,0.7185263404904372,1.6945155783183967,0.7524716028607474,0.42944763880353154,0.21393530111727926,0.622112917023097,0.09585366122856774,0.3488507676258218,0.09366167710694168,0.5862969660438013,1.3810143042912875,0.022452326269450568,0.7395038167938941,0.2176491653176055,0.7524518181579141,0.041268378476287504,0.07643145745895769,0.4583772084536605,0.8621403112400385,1.4382161659956645,0.7883945841392653,0.25554654989890224,1.24756796550455,0.07920835187729935,0.49689235486619776,0.45836484093866026,1.1624058293195008,1.1658330126971908,0.3774721413512688,0.5428746504909204,0.9723112795103469,0.1086564472497753,0.8006911020609654,1.1875384804827,0.9158968546330476,0.5747380846982432,0.20843032923179172,0.5779694518032032,1.081819983662338,0.25656800798137747,0.4968789964675402,1.2913990286699044,0.025580853358705746,0.6740666600731655,0.42534670994393714,0.34116022099447596,0.8477503168567808,0.42945054638427105,0.0372178983155399,0.5340835371026545,0.016599665626763405,0.5862380713209441,0.551007479352948,0.5747160348133935,0.022908894072583535,0.47072280620771095,1.2032315390449126,0.21886031265759087,0.4294395370901164,1.108458255055103,0.2188419194890341,0.19494357665473303,0.9717984281091078,0.5644809659567338,0.15238396958656739,0.7262823422605542,0.9722829413307686,0.35896032196714456,0.06743811093473684,0.5428260764425739,1.0277453951970155,0.496864826442703,0.5340702113326228,0.2721688343667562,1.1873922679143076,1.1169411108010043,0.45835247409102,1.2475351649796254,0.3326114775076313,0.6036977491961414,1.3017322411709396,0.429442443409794,1.2475023661794105,0.8832147341984097,0.561813527128582,0.08415504930295115,0.03795508415101517,0.4968514702203852,1.2474695691037687,1.2128354394434187,0.788048593456137,0.8530275828300959,0.6075203025920565,1.3925472747497225,0.5760984235556763,0.8032423381673158,0.979931682322801,0.11263848994665518,0.06323562783597769,0.5180956878039602,0.8959064327485379,1.1656835085919461,0.011722488038279466,0.1075122175668155,1.377434250150571,0.9844972373770052,0.3850165955429099,0.8830915178571432,0.06740667954612611,1.4635027334651207,0.10706583136489989,0.03970799655900076,0.49264532232487324,0.2942231183367497,0.7525632262474353,1.008729122383758,0.5618019282779692,0.5643863179074453,1.0277154431265116,0.7184420459877987,1.247362872855891,0.3747718515514098,0.4382096700937282,0.14356706601449448,0.5049390287735805,0.09143734239666688,0.34984833696622747,1.2990162127946845,0.07766179540709772,1.257121716611173,1.1995112835992523,0.8127539086544372,0.8621188055187672,0.4382006234645638,0.9716486902927581,0.11133359949161525,1.2663001937314804,0.37469586374695896,1.2738000680812431,0.2717476334309536,0.37799654931116444,0.38497096124214625,0.07645746010297438,0.458348045727508,0.9723145071982282,1.3223414714764141,0.06316218418907882,1.0904686735537186,0.10638297872340374,0.872446763379056,0.39750466417910346,0.38492533775776105,0.8414135151890887,0.5861791884290878,0.8609764347728041,1.24745655774337,0.7525762355415339,0.5048743874213046,0.09142731857048877,0.03553577917848377,0.6728210744446022,0.5348033936876027,0.6076076076076071,0.7263444520081693,0.396179505063048,1.0277138277721112,1.247443547751112,0.7525892434677448,0.5428213151911743,0.027683879240004546,0.17645137478619938,0.752569460873221,0.5323491027024598,1.4381915772089184,0.7060025853747389,1.147042023663811,1.1170316641093594,0.6305913371727434,0.026069029782979702,0.21677504319612895,0.5340568862275497,0.1466144526577985,0.4295087190694925,1.1686719111522443,1.148694964408119,1.2474503206813177,0.7430332922318124,1.02768307252965,0.7882929345023212,0.027653126639081413,0.514011998794303,0.9723476791281799,0.04219617107442311,0.860879368658399,1.1822369830726374,0.34117913318999793,0.7881913110738692,0.7525824681298449,0.397458318759472,0.36759744122024596,0.07704764202046199,0.4925925539741529,0.21882352941176608,0.630523980695797,0.09210443972230925,0.24825777538069918,1.1821103374397426,1.0614363014785644,0.20841300191204515,0.011719684286057963,1.2212543554006974,0.44850697897744973,1.1502620850320324,0.5347886201131914,0.5036669526866079,0.35383678440925703,0.5347738473549772,0.2083956774729835,0.027680652680652562,0.7525626872732993,0.4294977102595715,0.3531645569620253,1.1084473717855847,0.2188051424250077,1.1655340428260028,1.2126632595116407,0.5347590754128924,1.103122730573711,0.5546782493412141,1.1155926441044657,0.7394156231365543,0.23828906756672152,1.2751249385860532,0.0631493175799549,0.7393274505127603,0.8873730639039907,0.7788975986064446,1.1622622869844403,0.7059852992649615,0.7429416841326592,0.9723201538416714,0.15837467735679914,0.05242088064332928,0.5780357579633194,0.8007307842881382,0.3411405295315696,0.01193602291716378,0.06833988509222853,0.4968363028547086,0.7788006966907185,1.4443237468616918,0.9368635437881877,1.1873461349089127,0.37795677276172623,0.6227040048178272,0.7434533211405763,0.055534093951080166,0.04207340452679281,0.04095159457859529,1.2474570925434345,0.7068902215151128,0.8413091991073642,0.2187867585279799,0.10633584404076157,0.6304510404775753,0.778703818882945,0.6036467071354936,0.3924599644128119,0.7786069651741288,0.5861203173646679,0.8412049088880624,0.5696586564026962,0.37735849056603654,0.4294867020139733,0.8514564386450519,0.56183811234285,0.022417379246589597,0.17645674769878197,0.7525756938603855,0.4253687315634227,0.3056652085778284,0.7583614207933619,0.019735314604130916,0.5546190520894168,0.48760112717168413,0.10419833937551173,0.49682294847607045,0.8872820512820518,0.037304653620629014,0.5322925840590048,0.21674848996094448,0.5340435617873853,1.2931962799804224,0.8494445757504135,0.8260105448154651,0.4221144519883608,1.1993736951983296,0.04209406613740191,0.8607823244279111,0.377917004582774,0.5939799331103677,0.028873852732602345,0.1045545436794254,0.5340302380120799,1.1523598352866646,0.7785101355552786,0.5947250474056197,0.7302749283862489,0.1435819303591464,0.5866075357768524,0.20837835591388842,0.06332722459784124,0.7875088715400997,0.4703247022485014,0.6146439600379539,0.5347443042868694,1.1993388904857716,1.0277081755142472,1.1411633421676666,0.21876837771990398,0.6625110099000404,0.5187956839540556,0.3022556019770525,0.03791993916152725,0.49680959481531317,0.39241632380740626,1.667421259842517,0.9325615829855969,1.2571499013806708,1.146948433420366,0.5618265141819081,0.37787724477166584,0.49180049033739703,0.8504074505238651,0.46598308509841607,1.6054987212276206,0.602985572316789,0.315175097276265,0.3600517129928915,0.08415028050092799,0.34110193460798865,1.199217221135029,0.778413330017408,0.5347284866093729,0.8513442277279928,0.32038889249682545,0.9422515678460541,0.3848797250859092,0.5340285400658664,0.7619535599609206,0.028870394161813806,0.4294783739816288,0.13752762711729538,0.33274284027162937,0.9723217667453312,1.187200000000001,0.3056326008107516,0.4583479893359389,0.06562603887549873,0.29162528976655827,1.301557465091298,0.3191440928750271,1.3358103163556398,0.07764558547276101,0.7430050536176505,0.07762938230383931,0.29845671009462116,0.5761240316635834,0.5322360774152618,0.8845797280593328,0.3602226293614928,0.6145753537247451,0.6172688467000501,0.314970836033701,0.6303837205586775,1.150087260034904,1.146854858448234,0.5779744604280105,1.3168322380516981,0.8929396662387645,0.30559999999999843,0.7385085372352641,1.146761298743678,0.42946736707796695,0.49269446856355537,0.7618928953627689,0.21537522879804794,0.6226793778223796,0.20836103723404187,0.534015217662472,0.34112397747795686,0.5340018959237687,0.9413888416278174,1.4381850835001964,0.10453221411123431,0.5339885748497066,0.01729038370440672,0.5695932160481525,0.21875000000000144,0.7873971047402786,0.7525559147415162,0.6986172640622919,1.2216834514484651,1.0277065610068756,0.594622543950362,0.037352234852797594,0.5321795827674096,1.0480281483827556,0.3974119841454875,0.6076273070936175,1.2127146303391512,0.8589958158995813,0.3055674061433431,0.176390759419367,0.7525361366622851,0.2152439024390247,0.033738367749117766,0.8457736361848092,0.2151127361365024,0.10710618196755295,0.8411006445215667,1.1041861552853134,0.03772047331299644,0.840996405998265,1.3014765100671124,1.12283044058745,0.030571460266038547,1.1506557958170862,0.04217520596338087,0.5339752544402363,0.023414412366446813,0.2957218435551245,0.7392392989149884,0.800592300098717,0.6399870731444556,0.3746199067504564,1.4381553959210636,0.10710068285670593,1.1487679536170763,0.8606853020739405,0.6111944027986012,0.6689304779309824,0.10405705600374147,0.8959551087210661,0.9714989986134648,1.4381257095675508,0.040971114508898676,1.2474836403773897,1.0914172969417952,0.04919918553807501,0.359132670812069,1.051163569154523,0.01198985473829739,1.6151658767772528,0.0854716480925482,0.3219708598666563,0.10450289508612193,0.5339619346953077,1.0276766205389656,0.5779674166020171,1.1155569287810903,1.1591078066914497,0.5347137175521279,0.4253060020645931,1.298920823168915,0.077613185896098,1.293038052122845,0.3589737952253693,1.115384615384615,0.5546716929250628,0.8129460989416679,1.1995064774830348,1.2433687002652518,0.07561299033680347,0.5339486156148714,0.11781158014646276,0.45833766490340067,1.6149745290842332,0.07560999540784702,1.4660647028011227,0.916767849905953,0.0117168818747031,1.2474508567223812,0.011933174224343479,0.258781494773712,0.9033970751288869,0.4380960244395823,0.377837493325761,0.5779131758918608,1.4380869816500508,1.2816422287390035,0.7071201370198175,0.6220464022238859,1.422144657746752,1.181983718937446,1.2125425652667419,0.7070336391437293,0.5866885413286446,0.8588760284479149,0.7525819252095747,0.30553481923856085],\"yaxis\":\"y\",\"type\":\"scatter\"}],                        {\"template\":{\"data\":{\"histogram2dcontour\":[{\"type\":\"histogram2dcontour\",\"colorbar\":{\"outlinewidth\":0,\"ticks\":\"\"},\"colorscale\":[[0.0,\"#0d0887\"],[0.1111111111111111,\"#46039f\"],[0.2222222222222222,\"#7201a8\"],[0.3333333333333333,\"#9c179e\"],[0.4444444444444444,\"#bd3786\"],[0.5555555555555556,\"#d8576b\"],[0.6666666666666666,\"#ed7953\"],[0.7777777777777778,\"#fb9f3a\"],[0.8888888888888888,\"#fdca26\"],[1.0,\"#f0f921\"]]}],\"choropleth\":[{\"type\":\"choropleth\",\"colorbar\":{\"outlinewidth\":0,\"ticks\":\"\"}}],\"histogram2d\":[{\"type\":\"histogram2d\",\"colorbar\":{\"outlinewidth\":0,\"ticks\":\"\"},\"colorscale\":[[0.0,\"#0d0887\"],[0.1111111111111111,\"#46039f\"],[0.2222222222222222,\"#7201a8\"],[0.3333333333333333,\"#9c179e\"],[0.4444444444444444,\"#bd3786\"],[0.5555555555555556,\"#d8576b\"],[0.6666666666666666,\"#ed7953\"],[0.7777777777777778,\"#fb9f3a\"],[0.8888888888888888,\"#fdca26\"],[1.0,\"#f0f921\"]]}],\"heatmap\":[{\"type\":\"heatmap\",\"colorbar\":{\"outlinewidth\":0,\"ticks\":\"\"},\"colorscale\":[[0.0,\"#0d0887\"],[0.1111111111111111,\"#46039f\"],[0.2222222222222222,\"#7201a8\"],[0.3333333333333333,\"#9c179e\"],[0.4444444444444444,\"#bd3786\"],[0.5555555555555556,\"#d8576b\"],[0.6666666666666666,\"#ed7953\"],[0.7777777777777778,\"#fb9f3a\"],[0.8888888888888888,\"#fdca26\"],[1.0,\"#f0f921\"]]}],\"heatmapgl\":[{\"type\":\"heatmapgl\",\"colorbar\":{\"outlinewidth\":0,\"ticks\":\"\"},\"colorscale\":[[0.0,\"#0d0887\"],[0.1111111111111111,\"#46039f\"],[0.2222222222222222,\"#7201a8\"],[0.3333333333333333,\"#9c179e\"],[0.4444444444444444,\"#bd3786\"],[0.5555555555555556,\"#d8576b\"],[0.6666666666666666,\"#ed7953\"],[0.7777777777777778,\"#fb9f3a\"],[0.8888888888888888,\"#fdca26\"],[1.0,\"#f0f921\"]]}],\"contourcarpet\":[{\"type\":\"contourcarpet\",\"colorbar\":{\"outlinewidth\":0,\"ticks\":\"\"}}],\"contour\":[{\"type\":\"contour\",\"colorbar\":{\"outlinewidth\":0,\"ticks\":\"\"},\"colorscale\":[[0.0,\"#0d0887\"],[0.1111111111111111,\"#46039f\"],[0.2222222222222222,\"#7201a8\"],[0.3333333333333333,\"#9c179e\"],[0.4444444444444444,\"#bd3786\"],[0.5555555555555556,\"#d8576b\"],[0.6666666666666666,\"#ed7953\"],[0.7777777777777778,\"#fb9f3a\"],[0.8888888888888888,\"#fdca26\"],[1.0,\"#f0f921\"]]}],\"surface\":[{\"type\":\"surface\",\"colorbar\":{\"outlinewidth\":0,\"ticks\":\"\"},\"colorscale\":[[0.0,\"#0d0887\"],[0.1111111111111111,\"#46039f\"],[0.2222222222222222,\"#7201a8\"],[0.3333333333333333,\"#9c179e\"],[0.4444444444444444,\"#bd3786\"],[0.5555555555555556,\"#d8576b\"],[0.6666666666666666,\"#ed7953\"],[0.7777777777777778,\"#fb9f3a\"],[0.8888888888888888,\"#fdca26\"],[1.0,\"#f0f921\"]]}],\"mesh3d\":[{\"type\":\"mesh3d\",\"colorbar\":{\"outlinewidth\":0,\"ticks\":\"\"}}],\"scatter\":[{\"fillpattern\":{\"fillmode\":\"overlay\",\"size\":10,\"solidity\":0.2},\"type\":\"scatter\"}],\"parcoords\":[{\"type\":\"parcoords\",\"line\":{\"colorbar\":{\"outlinewidth\":0,\"ticks\":\"\"}}}],\"scatterpolargl\":[{\"type\":\"scatterpolargl\",\"marker\":{\"colorbar\":{\"outlinewidth\":0,\"ticks\":\"\"}}}],\"bar\":[{\"error_x\":{\"color\":\"#2a3f5f\"},\"error_y\":{\"color\":\"#2a3f5f\"},\"marker\":{\"line\":{\"color\":\"#E5ECF6\",\"width\":0.5},\"pattern\":{\"fillmode\":\"overlay\",\"size\":10,\"solidity\":0.2}},\"type\":\"bar\"}],\"scattergeo\":[{\"type\":\"scattergeo\",\"marker\":{\"colorbar\":{\"outlinewidth\":0,\"ticks\":\"\"}}}],\"scatterpolar\":[{\"type\":\"scatterpolar\",\"marker\":{\"colorbar\":{\"outlinewidth\":0,\"ticks\":\"\"}}}],\"histogram\":[{\"marker\":{\"pattern\":{\"fillmode\":\"overlay\",\"size\":10,\"solidity\":0.2}},\"type\":\"histogram\"}],\"scattergl\":[{\"type\":\"scattergl\",\"marker\":{\"colorbar\":{\"outlinewidth\":0,\"ticks\":\"\"}}}],\"scatter3d\":[{\"type\":\"scatter3d\",\"line\":{\"colorbar\":{\"outlinewidth\":0,\"ticks\":\"\"}},\"marker\":{\"colorbar\":{\"outlinewidth\":0,\"ticks\":\"\"}}}],\"scattermapbox\":[{\"type\":\"scattermapbox\",\"marker\":{\"colorbar\":{\"outlinewidth\":0,\"ticks\":\"\"}}}],\"scatterternary\":[{\"type\":\"scatterternary\",\"marker\":{\"colorbar\":{\"outlinewidth\":0,\"ticks\":\"\"}}}],\"scattercarpet\":[{\"type\":\"scattercarpet\",\"marker\":{\"colorbar\":{\"outlinewidth\":0,\"ticks\":\"\"}}}],\"carpet\":[{\"aaxis\":{\"endlinecolor\":\"#2a3f5f\",\"gridcolor\":\"white\",\"linecolor\":\"white\",\"minorgridcolor\":\"white\",\"startlinecolor\":\"#2a3f5f\"},\"baxis\":{\"endlinecolor\":\"#2a3f5f\",\"gridcolor\":\"white\",\"linecolor\":\"white\",\"minorgridcolor\":\"white\",\"startlinecolor\":\"#2a3f5f\"},\"type\":\"carpet\"}],\"table\":[{\"cells\":{\"fill\":{\"color\":\"#EBF0F8\"},\"line\":{\"color\":\"white\"}},\"header\":{\"fill\":{\"color\":\"#C8D4E3\"},\"line\":{\"color\":\"white\"}},\"type\":\"table\"}],\"barpolar\":[{\"marker\":{\"line\":{\"color\":\"#E5ECF6\",\"width\":0.5},\"pattern\":{\"fillmode\":\"overlay\",\"size\":10,\"solidity\":0.2}},\"type\":\"barpolar\"}],\"pie\":[{\"automargin\":true,\"type\":\"pie\"}]},\"layout\":{\"autotypenumbers\":\"strict\",\"colorway\":[\"#636efa\",\"#EF553B\",\"#00cc96\",\"#ab63fa\",\"#FFA15A\",\"#19d3f3\",\"#FF6692\",\"#B6E880\",\"#FF97FF\",\"#FECB52\"],\"font\":{\"color\":\"#2a3f5f\"},\"hovermode\":\"closest\",\"hoverlabel\":{\"align\":\"left\"},\"paper_bgcolor\":\"white\",\"plot_bgcolor\":\"#E5ECF6\",\"polar\":{\"bgcolor\":\"#E5ECF6\",\"angularaxis\":{\"gridcolor\":\"white\",\"linecolor\":\"white\",\"ticks\":\"\"},\"radialaxis\":{\"gridcolor\":\"white\",\"linecolor\":\"white\",\"ticks\":\"\"}},\"ternary\":{\"bgcolor\":\"#E5ECF6\",\"aaxis\":{\"gridcolor\":\"white\",\"linecolor\":\"white\",\"ticks\":\"\"},\"baxis\":{\"gridcolor\":\"white\",\"linecolor\":\"white\",\"ticks\":\"\"},\"caxis\":{\"gridcolor\":\"white\",\"linecolor\":\"white\",\"ticks\":\"\"}},\"coloraxis\":{\"colorbar\":{\"outlinewidth\":0,\"ticks\":\"\"}},\"colorscale\":{\"sequential\":[[0.0,\"#0d0887\"],[0.1111111111111111,\"#46039f\"],[0.2222222222222222,\"#7201a8\"],[0.3333333333333333,\"#9c179e\"],[0.4444444444444444,\"#bd3786\"],[0.5555555555555556,\"#d8576b\"],[0.6666666666666666,\"#ed7953\"],[0.7777777777777778,\"#fb9f3a\"],[0.8888888888888888,\"#fdca26\"],[1.0,\"#f0f921\"]],\"sequentialminus\":[[0.0,\"#0d0887\"],[0.1111111111111111,\"#46039f\"],[0.2222222222222222,\"#7201a8\"],[0.3333333333333333,\"#9c179e\"],[0.4444444444444444,\"#bd3786\"],[0.5555555555555556,\"#d8576b\"],[0.6666666666666666,\"#ed7953\"],[0.7777777777777778,\"#fb9f3a\"],[0.8888888888888888,\"#fdca26\"],[1.0,\"#f0f921\"]],\"diverging\":[[0,\"#8e0152\"],[0.1,\"#c51b7d\"],[0.2,\"#de77ae\"],[0.3,\"#f1b6da\"],[0.4,\"#fde0ef\"],[0.5,\"#f7f7f7\"],[0.6,\"#e6f5d0\"],[0.7,\"#b8e186\"],[0.8,\"#7fbc41\"],[0.9,\"#4d9221\"],[1,\"#276419\"]]},\"xaxis\":{\"gridcolor\":\"white\",\"linecolor\":\"white\",\"ticks\":\"\",\"title\":{\"standoff\":15},\"zerolinecolor\":\"white\",\"automargin\":true,\"zerolinewidth\":2},\"yaxis\":{\"gridcolor\":\"white\",\"linecolor\":\"white\",\"ticks\":\"\",\"title\":{\"standoff\":15},\"zerolinecolor\":\"white\",\"automargin\":true,\"zerolinewidth\":2},\"scene\":{\"xaxis\":{\"backgroundcolor\":\"#E5ECF6\",\"gridcolor\":\"white\",\"linecolor\":\"white\",\"showbackground\":true,\"ticks\":\"\",\"zerolinecolor\":\"white\",\"gridwidth\":2},\"yaxis\":{\"backgroundcolor\":\"#E5ECF6\",\"gridcolor\":\"white\",\"linecolor\":\"white\",\"showbackground\":true,\"ticks\":\"\",\"zerolinecolor\":\"white\",\"gridwidth\":2},\"zaxis\":{\"backgroundcolor\":\"#E5ECF6\",\"gridcolor\":\"white\",\"linecolor\":\"white\",\"showbackground\":true,\"ticks\":\"\",\"zerolinecolor\":\"white\",\"gridwidth\":2}},\"shapedefaults\":{\"line\":{\"color\":\"#2a3f5f\"}},\"annotationdefaults\":{\"arrowcolor\":\"#2a3f5f\",\"arrowhead\":0,\"arrowwidth\":1},\"geo\":{\"bgcolor\":\"white\",\"landcolor\":\"#E5ECF6\",\"subunitcolor\":\"white\",\"showland\":true,\"showlakes\":true,\"lakecolor\":\"white\"},\"title\":{\"x\":0.05},\"mapbox\":{\"style\":\"light\"}}},\"xaxis\":{\"anchor\":\"y\",\"domain\":[0.0,1.0],\"title\":{\"text\":\"x\"}},\"yaxis\":{\"anchor\":\"x\",\"domain\":[0.0,1.0],\"title\":{\"text\":\"y\"}},\"legend\":{\"tracegroupgap\":0},\"title\":{\"text\":\"Mean td errors\"}},                        {\"responsive\": true}                    ).then(function(){\n",
              "                            \n",
              "var gd = document.getElementById('1f716780-36d9-4754-ba2a-22eccbb0375b');\n",
              "var x = new MutationObserver(function (mutations, observer) {{\n",
              "        var display = window.getComputedStyle(gd).display;\n",
              "        if (!display || display === 'none') {{\n",
              "            console.log([gd, 'removed!']);\n",
              "            Plotly.purge(gd);\n",
              "            observer.disconnect();\n",
              "        }}\n",
              "}});\n",
              "\n",
              "// Listen for the removal of the full notebook cells\n",
              "var notebookContainer = gd.closest('#notebook-container');\n",
              "if (notebookContainer) {{\n",
              "    x.observe(notebookContainer, {childList: true});\n",
              "}}\n",
              "\n",
              "// Listen for the clearing of the current output cell\n",
              "var outputEl = gd.closest('.output');\n",
              "if (outputEl) {{\n",
              "    x.observe(outputEl, {childList: true});\n",
              "}}\n",
              "\n",
              "                        })                };                            </script>        </div>\n",
              "</body>\n",
              "</html>"
            ]
          },
          "metadata": {}
        }
      ],
      "source": [
        "import math\n",
        "import random\n",
        "from copy import deepcopy\n",
        "from collections import deque\n",
        "import plotly.express as px\n",
        "!pip install -U kaleido\n",
        "import kaleido\n",
        "import plotly.io as pio\n",
        "\n",
        "q_grid: tp.Dict[str, np.ndarray] = {\n",
        "    'no_ace': np.zeros((10, 10, 2), dtype=float),\n",
        "    'ace': np.zeros((10, 10, 2), dtype=float)\n",
        "}\n",
        "\n",
        "def estimate_q_function(num_episodes: int = 10_000_00, frame_step: int = 100_00, plot_step: int = 10_00):\n",
        "\n",
        "    global q_grid\n",
        "\n",
        "    last_rewards = deque(maxlen=1000)\n",
        "    last_td_errors = deque(maxlen=1000)\n",
        "\n",
        "    mean_rewards = []\n",
        "    mean_td_errors = []\n",
        "\n",
        "    env = gym.make(\"Blackjack-v1\", sab=True)\n",
        "\n",
        "    temp_dir = Path('tmp')\n",
        "    if temp_dir.exists():\n",
        "        shutil.rmtree(temp_dir)\n",
        "    temp_dir.mkdir()\n",
        "\n",
        "    eps_from = 1.0\n",
        "    eps_to = 1e-3\n",
        "    n_epochs_of_decays = math.ceil(num_episodes * 0.5)\n",
        "\n",
        "    q_grid_count: tp.Dict[str, np.ndarray] = {\n",
        "        'no_ace': np.zeros((10, 10, 2), dtype=int),\n",
        "        'ace': np.zeros((10, 10, 2), dtype=int)\n",
        "    }\n",
        "    frames = []\n",
        "\n",
        "    for ep_idx in tqdm(range(num_episodes + frame_step)):\n",
        "        if ep_idx > n_epochs_of_decays:\n",
        "            eps_greedy_coeff = 0.0\n",
        "        else:\n",
        "            step_coeff = min(max(ep_idx / n_epochs_of_decays, 0.0), 1.0)\n",
        "            eps_greedy_coeff = eps_from * math.exp(math.log(eps_to / eps_from) * step_coeff)\n",
        "            # eps_greedy_coeff = eps_from + (eps_to - eps_from) * step_coeff\n",
        "\n",
        "        obs, info = env.reset()\n",
        "        done = False\n",
        "        ep_reward = 0\n",
        "\n",
        "        while not done:\n",
        "            player_scores, dealer_card, player_has_ace = obs\n",
        "            q = q_grid['ace' if player_has_ace else 'no_ace']\n",
        "            q_count = q_grid_count['ace' if player_has_ace else 'no_ace']\n",
        "            if player_scores >= player_scores_offset:\n",
        "                cell_idx = (dealer_card - dealer_card_offset, player_scores - player_scores_offset)\n",
        "                if random.uniform(0, 1) < eps_greedy_coeff:\n",
        "                    action = np.random.choice([0, 1])\n",
        "                else:\n",
        "                    action = q[cell_idx].argmax()\n",
        "            else:\n",
        "                action = 1\n",
        "\n",
        "            next_obs, reward, terminated, truncated, info = env.step(action)\n",
        "            ep_reward += reward\n",
        "\n",
        "            done = terminated or truncated\n",
        "\n",
        "            if player_scores >= player_scores_offset:\n",
        "                if terminated:\n",
        "                    td_target = reward\n",
        "                else:\n",
        "                    next_player_scores, next_dealer_card, next_player_has_ace = next_obs\n",
        "                    next_cell_idx = (next_dealer_card - dealer_card_offset, next_player_scores - player_scores_offset)\n",
        "                    next_q = q_grid['ace' if next_player_has_ace else 'no_ace']\n",
        "\n",
        "                    td_target = reward + next_q[next_cell_idx].max()\n",
        "                td_error = td_target - q[cell_idx][action]\n",
        "                q_count[cell_idx][action] += 1\n",
        "                q[cell_idx][action] += td_error / q_count[cell_idx][action]\n",
        "                last_td_errors.append(abs(td_error))\n",
        "\n",
        "            obs = next_obs\n",
        "\n",
        "        last_rewards.append(ep_reward)\n",
        "\n",
        "        mean_reward = sum(last_rewards) / len(last_rewards)\n",
        "        if len(last_td_errors) > 0 and math.ceil(ep_idx / plot_step) >= len(mean_rewards):\n",
        "            mean_rewards.append(mean_reward)\n",
        "            mean_td_error = sum(last_td_errors) / len(last_td_errors)\n",
        "            mean_td_errors.append(mean_td_error)\n",
        "\n",
        "        if ep_idx % frame_step == 0:\n",
        "            ep_name = str(ep_idx) if ep_idx > 0 else '1'\n",
        "\n",
        "            values = {\n",
        "                'no_ace': q_grid['no_ace'].max(axis=2),\n",
        "                'ace': q_grid['ace'].max(axis=2)\n",
        "            }\n",
        "            fig = draw_value_function(f'Value-function from Q-function on step: {ep_name}', values)\n",
        "\n",
        "            image_path = temp_dir / f'{ep_name}.png'\n",
        "            fig.write_image(image_path)\n",
        "            frames.append(imageio.imread(image_path))\n",
        "\n",
        "    imageio.mimsave('blackjack_optimal_value_function.mp4', frames)\n",
        "\n",
        "    px.line(y=mean_rewards, title='Mean reward').show()\n",
        "    px.line(y=last_td_errors, title='Mean td errors').show()\n",
        "\n",
        "\n",
        "estimate_q_function()\n",
        "\n",
        "\n"
      ]
    },
    {
      "cell_type": "code",
      "execution_count": 5,
      "metadata": {
        "colab": {
          "base_uri": "https://localhost:8080/"
        },
        "id": "MNyE6lW_9T1w",
        "outputId": "fb322b88-9212-495f-dc2d-9f109c99f6fd"
      },
      "outputs": [
        {
          "output_type": "stream",
          "name": "stderr",
          "text": [
            "100%|██████████| 100000/100000 [00:29<00:00, 3378.78it/s]\n",
            "WARNING:imageio_ffmpeg:IMAGEIO FFMPEG_WRITER WARNING: input image is not divisible by macro_block_size=16, resizing from (600, 500) to (608, 512) to ensure video compatibility with most codecs and players. To prevent resizing, make your input image divisible by the macro_block_size or set the macro_block_size to 1 (risking incompatibility).\n"
          ]
        },
        {
          "output_type": "execute_result",
          "data": {
            "text/plain": [
              "-0.03912"
            ]
          },
          "metadata": {},
          "execution_count": 5
        }
      ],
      "source": [
        "policy_grids['no_ace'] = q_grid['no_ace'].argmax(axis=2)\n",
        "policy_grids['ace'] = q_grid['ace'].argmax(axis=2)\n",
        "\n",
        "new_policy_reward = estimate_policy(out_file_name='optimal_policy_game.mp4')\n",
        "new_policy_reward"
      ]
    },
    {
      "cell_type": "code",
      "execution_count": 6,
      "metadata": {
        "colab": {
          "base_uri": "https://localhost:8080/",
          "height": 417
        },
        "id": "X4DAYLZj9UaF",
        "outputId": "356bc659-53e5-4d18-b912-345974613648"
      },
      "outputs": [
        {
          "output_type": "display_data",
          "data": {
            "text/html": [
              "<html>\n",
              "<head><meta charset=\"utf-8\" /></head>\n",
              "<body>\n",
              "    <div>            <script src=\"https://cdnjs.cloudflare.com/ajax/libs/mathjax/2.7.5/MathJax.js?config=TeX-AMS-MML_SVG\"></script><script type=\"text/javascript\">if (window.MathJax && window.MathJax.Hub && window.MathJax.Hub.Config) {window.MathJax.Hub.Config({SVG: {font: \"STIX-Web\"}});}</script>                <script type=\"text/javascript\">window.PlotlyConfig = {MathJaxConfig: 'local'};</script>\n",
              "        <script charset=\"utf-8\" src=\"https://cdn.plot.ly/plotly-2.24.1.min.js\"></script>                <div id=\"65d0c2ff-4538-4c05-b656-cbd84e89ab92\" class=\"plotly-graph-div\" style=\"height:400px; width:800px;\"></div>            <script type=\"text/javascript\">                                    window.PLOTLYENV=window.PLOTLYENV || {};                                    if (document.getElementById(\"65d0c2ff-4538-4c05-b656-cbd84e89ab92\")) {                    Plotly.newPlot(                        \"65d0c2ff-4538-4c05-b656-cbd84e89ab92\",                        [{\"colorscale\":[[0,\"rgb(150,150,150)\"],[1,\"rgb(155,230,155)\"]],\"text\":[[\"Hit\",\"Hit\",\"Hit\",\"Hit\",\"Hit\",\"Stick\",\"Stick\",\"Stick\",\"Stick\",\"Stick\"],[\"Hit\",\"Stick\",\"Stick\",\"Stick\",\"Stick\",\"Stick\",\"Stick\",\"Stick\",\"Stick\",\"Stick\"],[\"Hit\",\"Stick\",\"Stick\",\"Stick\",\"Stick\",\"Stick\",\"Stick\",\"Stick\",\"Stick\",\"Stick\"],[\"Stick\",\"Stick\",\"Stick\",\"Stick\",\"Stick\",\"Stick\",\"Stick\",\"Stick\",\"Stick\",\"Stick\"],[\"Hit\",\"Stick\",\"Stick\",\"Stick\",\"Stick\",\"Stick\",\"Stick\",\"Stick\",\"Stick\",\"Stick\"],[\"Hit\",\"Stick\",\"Stick\",\"Stick\",\"Stick\",\"Stick\",\"Stick\",\"Stick\",\"Stick\",\"Stick\"],[\"Hit\",\"Hit\",\"Hit\",\"Hit\",\"Hit\",\"Stick\",\"Stick\",\"Stick\",\"Stick\",\"Stick\"],[\"Hit\",\"Hit\",\"Hit\",\"Hit\",\"Hit\",\"Stick\",\"Stick\",\"Stick\",\"Stick\",\"Stick\"],[\"Hit\",\"Hit\",\"Hit\",\"Hit\",\"Hit\",\"Stick\",\"Stick\",\"Stick\",\"Stick\",\"Stick\"],[\"Hit\",\"Hit\",\"Hit\",\"Hit\",\"Hit\",\"Stick\",\"Stick\",\"Stick\",\"Stick\",\"Stick\"]],\"texttemplate\":\"%{text}\",\"x\":[12,13,14,15,16,17,18,19,20,21],\"y\":[\"A\",\"2\",\"3\",\"4\",\"5\",\"6\",\"7\",\"8\",\"9\",\"10\"],\"z\":[[1,1,1,1,1,0,0,0,0,0],[1,0,0,0,0,0,0,0,0,0],[1,0,0,0,0,0,0,0,0,0],[0,0,0,0,0,0,0,0,0,0],[1,0,0,0,0,0,0,0,0,0],[1,0,0,0,0,0,0,0,0,0],[1,1,1,1,1,0,0,0,0,0],[1,1,1,1,1,0,0,0,0,0],[1,1,1,1,1,0,0,0,0,0],[1,1,1,1,1,0,0,0,0,0]],\"type\":\"heatmap\",\"xaxis\":\"x\",\"yaxis\":\"y\",\"showscale\":false},{\"colorscale\":[[0,\"rgb(150,150,150)\"],[1,\"rgb(155,230,155)\"]],\"text\":[[\"Hit\",\"Hit\",\"Hit\",\"Hit\",\"Hit\",\"Hit\",\"Hit\",\"Stick\",\"Stick\",\"Stick\"],[\"Hit\",\"Hit\",\"Hit\",\"Hit\",\"Hit\",\"Hit\",\"Stick\",\"Stick\",\"Stick\",\"Stick\"],[\"Hit\",\"Hit\",\"Hit\",\"Hit\",\"Hit\",\"Hit\",\"Stick\",\"Stick\",\"Stick\",\"Stick\"],[\"Hit\",\"Hit\",\"Hit\",\"Hit\",\"Hit\",\"Hit\",\"Stick\",\"Stick\",\"Stick\",\"Stick\"],[\"Hit\",\"Hit\",\"Hit\",\"Hit\",\"Hit\",\"Hit\",\"Hit\",\"Stick\",\"Stick\",\"Stick\"],[\"Hit\",\"Hit\",\"Hit\",\"Hit\",\"Hit\",\"Hit\",\"Stick\",\"Stick\",\"Stick\",\"Stick\"],[\"Hit\",\"Hit\",\"Hit\",\"Hit\",\"Hit\",\"Hit\",\"Stick\",\"Stick\",\"Stick\",\"Stick\"],[\"Hit\",\"Hit\",\"Hit\",\"Hit\",\"Hit\",\"Hit\",\"Stick\",\"Stick\",\"Stick\",\"Stick\"],[\"Hit\",\"Hit\",\"Hit\",\"Hit\",\"Hit\",\"Hit\",\"Hit\",\"Stick\",\"Stick\",\"Stick\"],[\"Hit\",\"Hit\",\"Hit\",\"Hit\",\"Hit\",\"Hit\",\"Hit\",\"Stick\",\"Stick\",\"Stick\"]],\"texttemplate\":\"%{text}\",\"x\":[12,13,14,15,16,17,18,19,20,21],\"y\":[\"A\",\"2\",\"3\",\"4\",\"5\",\"6\",\"7\",\"8\",\"9\",\"10\"],\"z\":[[1,1,1,1,1,1,1,0,0,0],[1,1,1,1,1,1,0,0,0,0],[1,1,1,1,1,1,0,0,0,0],[1,1,1,1,1,1,0,0,0,0],[1,1,1,1,1,1,1,0,0,0],[1,1,1,1,1,1,0,0,0,0],[1,1,1,1,1,1,0,0,0,0],[1,1,1,1,1,1,0,0,0,0],[1,1,1,1,1,1,1,0,0,0],[1,1,1,1,1,1,1,0,0,0]],\"type\":\"heatmap\",\"xaxis\":\"x2\",\"yaxis\":\"y2\",\"showscale\":false}],                        {\"template\":{\"data\":{\"histogram2dcontour\":[{\"type\":\"histogram2dcontour\",\"colorbar\":{\"outlinewidth\":0,\"ticks\":\"\"},\"colorscale\":[[0.0,\"#0d0887\"],[0.1111111111111111,\"#46039f\"],[0.2222222222222222,\"#7201a8\"],[0.3333333333333333,\"#9c179e\"],[0.4444444444444444,\"#bd3786\"],[0.5555555555555556,\"#d8576b\"],[0.6666666666666666,\"#ed7953\"],[0.7777777777777778,\"#fb9f3a\"],[0.8888888888888888,\"#fdca26\"],[1.0,\"#f0f921\"]]}],\"choropleth\":[{\"type\":\"choropleth\",\"colorbar\":{\"outlinewidth\":0,\"ticks\":\"\"}}],\"histogram2d\":[{\"type\":\"histogram2d\",\"colorbar\":{\"outlinewidth\":0,\"ticks\":\"\"},\"colorscale\":[[0.0,\"#0d0887\"],[0.1111111111111111,\"#46039f\"],[0.2222222222222222,\"#7201a8\"],[0.3333333333333333,\"#9c179e\"],[0.4444444444444444,\"#bd3786\"],[0.5555555555555556,\"#d8576b\"],[0.6666666666666666,\"#ed7953\"],[0.7777777777777778,\"#fb9f3a\"],[0.8888888888888888,\"#fdca26\"],[1.0,\"#f0f921\"]]}],\"heatmap\":[{\"type\":\"heatmap\",\"colorbar\":{\"outlinewidth\":0,\"ticks\":\"\"},\"colorscale\":[[0.0,\"#0d0887\"],[0.1111111111111111,\"#46039f\"],[0.2222222222222222,\"#7201a8\"],[0.3333333333333333,\"#9c179e\"],[0.4444444444444444,\"#bd3786\"],[0.5555555555555556,\"#d8576b\"],[0.6666666666666666,\"#ed7953\"],[0.7777777777777778,\"#fb9f3a\"],[0.8888888888888888,\"#fdca26\"],[1.0,\"#f0f921\"]]}],\"heatmapgl\":[{\"type\":\"heatmapgl\",\"colorbar\":{\"outlinewidth\":0,\"ticks\":\"\"},\"colorscale\":[[0.0,\"#0d0887\"],[0.1111111111111111,\"#46039f\"],[0.2222222222222222,\"#7201a8\"],[0.3333333333333333,\"#9c179e\"],[0.4444444444444444,\"#bd3786\"],[0.5555555555555556,\"#d8576b\"],[0.6666666666666666,\"#ed7953\"],[0.7777777777777778,\"#fb9f3a\"],[0.8888888888888888,\"#fdca26\"],[1.0,\"#f0f921\"]]}],\"contourcarpet\":[{\"type\":\"contourcarpet\",\"colorbar\":{\"outlinewidth\":0,\"ticks\":\"\"}}],\"contour\":[{\"type\":\"contour\",\"colorbar\":{\"outlinewidth\":0,\"ticks\":\"\"},\"colorscale\":[[0.0,\"#0d0887\"],[0.1111111111111111,\"#46039f\"],[0.2222222222222222,\"#7201a8\"],[0.3333333333333333,\"#9c179e\"],[0.4444444444444444,\"#bd3786\"],[0.5555555555555556,\"#d8576b\"],[0.6666666666666666,\"#ed7953\"],[0.7777777777777778,\"#fb9f3a\"],[0.8888888888888888,\"#fdca26\"],[1.0,\"#f0f921\"]]}],\"surface\":[{\"type\":\"surface\",\"colorbar\":{\"outlinewidth\":0,\"ticks\":\"\"},\"colorscale\":[[0.0,\"#0d0887\"],[0.1111111111111111,\"#46039f\"],[0.2222222222222222,\"#7201a8\"],[0.3333333333333333,\"#9c179e\"],[0.4444444444444444,\"#bd3786\"],[0.5555555555555556,\"#d8576b\"],[0.6666666666666666,\"#ed7953\"],[0.7777777777777778,\"#fb9f3a\"],[0.8888888888888888,\"#fdca26\"],[1.0,\"#f0f921\"]]}],\"mesh3d\":[{\"type\":\"mesh3d\",\"colorbar\":{\"outlinewidth\":0,\"ticks\":\"\"}}],\"scatter\":[{\"fillpattern\":{\"fillmode\":\"overlay\",\"size\":10,\"solidity\":0.2},\"type\":\"scatter\"}],\"parcoords\":[{\"type\":\"parcoords\",\"line\":{\"colorbar\":{\"outlinewidth\":0,\"ticks\":\"\"}}}],\"scatterpolargl\":[{\"type\":\"scatterpolargl\",\"marker\":{\"colorbar\":{\"outlinewidth\":0,\"ticks\":\"\"}}}],\"bar\":[{\"error_x\":{\"color\":\"#2a3f5f\"},\"error_y\":{\"color\":\"#2a3f5f\"},\"marker\":{\"line\":{\"color\":\"#E5ECF6\",\"width\":0.5},\"pattern\":{\"fillmode\":\"overlay\",\"size\":10,\"solidity\":0.2}},\"type\":\"bar\"}],\"scattergeo\":[{\"type\":\"scattergeo\",\"marker\":{\"colorbar\":{\"outlinewidth\":0,\"ticks\":\"\"}}}],\"scatterpolar\":[{\"type\":\"scatterpolar\",\"marker\":{\"colorbar\":{\"outlinewidth\":0,\"ticks\":\"\"}}}],\"histogram\":[{\"marker\":{\"pattern\":{\"fillmode\":\"overlay\",\"size\":10,\"solidity\":0.2}},\"type\":\"histogram\"}],\"scattergl\":[{\"type\":\"scattergl\",\"marker\":{\"colorbar\":{\"outlinewidth\":0,\"ticks\":\"\"}}}],\"scatter3d\":[{\"type\":\"scatter3d\",\"line\":{\"colorbar\":{\"outlinewidth\":0,\"ticks\":\"\"}},\"marker\":{\"colorbar\":{\"outlinewidth\":0,\"ticks\":\"\"}}}],\"scattermapbox\":[{\"type\":\"scattermapbox\",\"marker\":{\"colorbar\":{\"outlinewidth\":0,\"ticks\":\"\"}}}],\"scatterternary\":[{\"type\":\"scatterternary\",\"marker\":{\"colorbar\":{\"outlinewidth\":0,\"ticks\":\"\"}}}],\"scattercarpet\":[{\"type\":\"scattercarpet\",\"marker\":{\"colorbar\":{\"outlinewidth\":0,\"ticks\":\"\"}}}],\"carpet\":[{\"aaxis\":{\"endlinecolor\":\"#2a3f5f\",\"gridcolor\":\"white\",\"linecolor\":\"white\",\"minorgridcolor\":\"white\",\"startlinecolor\":\"#2a3f5f\"},\"baxis\":{\"endlinecolor\":\"#2a3f5f\",\"gridcolor\":\"white\",\"linecolor\":\"white\",\"minorgridcolor\":\"white\",\"startlinecolor\":\"#2a3f5f\"},\"type\":\"carpet\"}],\"table\":[{\"cells\":{\"fill\":{\"color\":\"#EBF0F8\"},\"line\":{\"color\":\"white\"}},\"header\":{\"fill\":{\"color\":\"#C8D4E3\"},\"line\":{\"color\":\"white\"}},\"type\":\"table\"}],\"barpolar\":[{\"marker\":{\"line\":{\"color\":\"#E5ECF6\",\"width\":0.5},\"pattern\":{\"fillmode\":\"overlay\",\"size\":10,\"solidity\":0.2}},\"type\":\"barpolar\"}],\"pie\":[{\"automargin\":true,\"type\":\"pie\"}]},\"layout\":{\"autotypenumbers\":\"strict\",\"colorway\":[\"#636efa\",\"#EF553B\",\"#00cc96\",\"#ab63fa\",\"#FFA15A\",\"#19d3f3\",\"#FF6692\",\"#B6E880\",\"#FF97FF\",\"#FECB52\"],\"font\":{\"color\":\"#2a3f5f\"},\"hovermode\":\"closest\",\"hoverlabel\":{\"align\":\"left\"},\"paper_bgcolor\":\"white\",\"plot_bgcolor\":\"#E5ECF6\",\"polar\":{\"bgcolor\":\"#E5ECF6\",\"angularaxis\":{\"gridcolor\":\"white\",\"linecolor\":\"white\",\"ticks\":\"\"},\"radialaxis\":{\"gridcolor\":\"white\",\"linecolor\":\"white\",\"ticks\":\"\"}},\"ternary\":{\"bgcolor\":\"#E5ECF6\",\"aaxis\":{\"gridcolor\":\"white\",\"linecolor\":\"white\",\"ticks\":\"\"},\"baxis\":{\"gridcolor\":\"white\",\"linecolor\":\"white\",\"ticks\":\"\"},\"caxis\":{\"gridcolor\":\"white\",\"linecolor\":\"white\",\"ticks\":\"\"}},\"coloraxis\":{\"colorbar\":{\"outlinewidth\":0,\"ticks\":\"\"}},\"colorscale\":{\"sequential\":[[0.0,\"#0d0887\"],[0.1111111111111111,\"#46039f\"],[0.2222222222222222,\"#7201a8\"],[0.3333333333333333,\"#9c179e\"],[0.4444444444444444,\"#bd3786\"],[0.5555555555555556,\"#d8576b\"],[0.6666666666666666,\"#ed7953\"],[0.7777777777777778,\"#fb9f3a\"],[0.8888888888888888,\"#fdca26\"],[1.0,\"#f0f921\"]],\"sequentialminus\":[[0.0,\"#0d0887\"],[0.1111111111111111,\"#46039f\"],[0.2222222222222222,\"#7201a8\"],[0.3333333333333333,\"#9c179e\"],[0.4444444444444444,\"#bd3786\"],[0.5555555555555556,\"#d8576b\"],[0.6666666666666666,\"#ed7953\"],[0.7777777777777778,\"#fb9f3a\"],[0.8888888888888888,\"#fdca26\"],[1.0,\"#f0f921\"]],\"diverging\":[[0,\"#8e0152\"],[0.1,\"#c51b7d\"],[0.2,\"#de77ae\"],[0.3,\"#f1b6da\"],[0.4,\"#fde0ef\"],[0.5,\"#f7f7f7\"],[0.6,\"#e6f5d0\"],[0.7,\"#b8e186\"],[0.8,\"#7fbc41\"],[0.9,\"#4d9221\"],[1,\"#276419\"]]},\"xaxis\":{\"gridcolor\":\"white\",\"linecolor\":\"white\",\"ticks\":\"\",\"title\":{\"standoff\":15},\"zerolinecolor\":\"white\",\"automargin\":true,\"zerolinewidth\":2},\"yaxis\":{\"gridcolor\":\"white\",\"linecolor\":\"white\",\"ticks\":\"\",\"title\":{\"standoff\":15},\"zerolinecolor\":\"white\",\"automargin\":true,\"zerolinewidth\":2},\"scene\":{\"xaxis\":{\"backgroundcolor\":\"#E5ECF6\",\"gridcolor\":\"white\",\"linecolor\":\"white\",\"showbackground\":true,\"ticks\":\"\",\"zerolinecolor\":\"white\",\"gridwidth\":2},\"yaxis\":{\"backgroundcolor\":\"#E5ECF6\",\"gridcolor\":\"white\",\"linecolor\":\"white\",\"showbackground\":true,\"ticks\":\"\",\"zerolinecolor\":\"white\",\"gridwidth\":2},\"zaxis\":{\"backgroundcolor\":\"#E5ECF6\",\"gridcolor\":\"white\",\"linecolor\":\"white\",\"showbackground\":true,\"ticks\":\"\",\"zerolinecolor\":\"white\",\"gridwidth\":2}},\"shapedefaults\":{\"line\":{\"color\":\"#2a3f5f\"}},\"annotationdefaults\":{\"arrowcolor\":\"#2a3f5f\",\"arrowhead\":0,\"arrowwidth\":1},\"geo\":{\"bgcolor\":\"white\",\"landcolor\":\"#E5ECF6\",\"subunitcolor\":\"white\",\"showland\":true,\"showlakes\":true,\"lakecolor\":\"white\"},\"title\":{\"x\":0.05},\"mapbox\":{\"style\":\"light\"}}},\"xaxis\":{\"anchor\":\"y\",\"domain\":[0.0,0.45],\"showline\":true,\"linewidth\":1,\"title\":{\"text\":\"Player scores\"},\"dtick\":1},\"yaxis\":{\"anchor\":\"x\",\"domain\":[0.0,1.0],\"showline\":true,\"linewidth\":1,\"title\":{\"text\":\"Dealer card\"},\"dtick\":1},\"xaxis2\":{\"anchor\":\"y2\",\"domain\":[0.55,1.0],\"showline\":true,\"linewidth\":1,\"title\":{\"text\":\"Player scores\"},\"dtick\":1},\"yaxis2\":{\"anchor\":\"x2\",\"domain\":[0.0,1.0],\"showline\":true,\"linewidth\":1,\"title\":{\"text\":\"Dealer card\"},\"dtick\":1},\"annotations\":[{\"font\":{\"size\":16},\"showarrow\":false,\"text\":\"No ace\",\"x\":0.225,\"xanchor\":\"center\",\"xref\":\"paper\",\"y\":1.0,\"yanchor\":\"bottom\",\"yref\":\"paper\"},{\"font\":{\"size\":16},\"showarrow\":false,\"text\":\"Ace\",\"x\":0.775,\"xanchor\":\"center\",\"xref\":\"paper\",\"y\":1.0,\"yanchor\":\"bottom\",\"yref\":\"paper\"}],\"width\":800,\"height\":400,\"scene\":{\"xaxis\":{\"title\":{\"text\":\"Dealer\"}},\"yaxis\":{\"title\":{\"text\":\"Player\"}}}},                        {\"responsive\": true}                    ).then(function(){\n",
              "                            \n",
              "var gd = document.getElementById('65d0c2ff-4538-4c05-b656-cbd84e89ab92');\n",
              "var x = new MutationObserver(function (mutations, observer) {{\n",
              "        var display = window.getComputedStyle(gd).display;\n",
              "        if (!display || display === 'none') {{\n",
              "            console.log([gd, 'removed!']);\n",
              "            Plotly.purge(gd);\n",
              "            observer.disconnect();\n",
              "        }}\n",
              "}});\n",
              "\n",
              "// Listen for the removal of the full notebook cells\n",
              "var notebookContainer = gd.closest('#notebook-container');\n",
              "if (notebookContainer) {{\n",
              "    x.observe(notebookContainer, {childList: true});\n",
              "}}\n",
              "\n",
              "// Listen for the clearing of the current output cell\n",
              "var outputEl = gd.closest('.output');\n",
              "if (outputEl) {{\n",
              "    x.observe(outputEl, {childList: true});\n",
              "}}\n",
              "\n",
              "                        })                };                            </script>        </div>\n",
              "</body>\n",
              "</html>"
            ]
          },
          "metadata": {}
        }
      ],
      "source": [
        "import plotly.express as px\n",
        "\n",
        "fig = make_subplots(rows=1, cols=2, subplot_titles=(\"No ace\", \"Ace\"))\n",
        "dealer_axis = np.linspace(1, 10, 10)\n",
        "colorscale = [[0, \"rgb(150,150,150)\"], [1, \"rgb(155,230,155)\"]]\n",
        "\n",
        "annotations = ['Stick', 'Hit']\n",
        "policy_texts = {\n",
        "    'no_ace': [[annotations[policy_grids['no_ace'][i, j]] for j in range(10)] for i in range(10)],\n",
        "    'ace': [[annotations[policy_grids['ace'][i, j]] for j in range(10)] for i in range(10)]\n",
        "}\n",
        "\n",
        "fig.add_trace(go.Heatmap(x=player_scores_axis, y=card_names, z=policy_grids['no_ace'],\n",
        "                         colorscale=colorscale,\n",
        "                         text=policy_texts['no_ace'], texttemplate=\"%{text}\"), 1, 1)\n",
        "fig.add_trace(go.Heatmap(x=player_scores_axis, y=card_names, z=policy_grids['ace'],\n",
        "                         colorscale=colorscale,\n",
        "                         text=policy_texts['ace'], texttemplate=\"%{text}\"), 1, 2)\n",
        "fig.update_layout(width=800, height=400)\n",
        "fig.update_scenes(xaxis_title_text='Dealer', yaxis_title_text='Player')\n",
        "fig.update_traces(showscale=False)\n",
        "fig.update_xaxes(showline=True, linewidth=1, title='Player scores', dtick=1)\n",
        "fig.update_yaxes(showline=True, linewidth=1, title='Dealer card', dtick=1)\n",
        "\n",
        "\n",
        "fig.show()"
      ]
    }
  ],
  "metadata": {
    "colab": {
      "provenance": []
    },
    "kernelspec": {
      "display_name": "Python 3",
      "language": "python",
      "name": "python3"
    },
    "language_info": {
      "codemirror_mode": {
        "name": "ipython",
        "version": 3
      },
      "file_extension": ".py",
      "mimetype": "text/x-python",
      "name": "python",
      "nbconvert_exporter": "python",
      "pygments_lexer": "ipython3",
      "version": "3.7.9"
    }
  },
  "nbformat": 4,
  "nbformat_minor": 0
}